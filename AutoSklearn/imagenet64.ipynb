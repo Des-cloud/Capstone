{
 "cells": [
  {
   "cell_type": "code",
   "execution_count": 1,
   "id": "00afc1f0",
   "metadata": {},
   "outputs": [],
   "source": [
    "from datasets import load_dataset\n",
    "import numpy as np"
   ]
  },
  {
   "cell_type": "code",
   "execution_count": 2,
   "id": "0a054712",
   "metadata": {},
   "outputs": [
    {
     "name": "stderr",
     "output_type": "stream",
     "text": [
      "Using custom data configuration Maysee--tiny-imagenet-35af7c46a941f08e\n"
     ]
    }
   ],
   "source": [
    "trainData = load_dataset(\n",
    "    'Maysee/tiny-imagenet',\n",
    "    split='train',\n",
    "    cache_dir=\"/scratch/doa240/.cache/huggingface/datasets\",\n",
    "    streaming=True,\n",
    "    ignore_verifications=True  # set to True if seeing splits Error\n",
    ")\n",
    "trainData = trainData.shuffle(seed=101)"
   ]
  },
  {
   "cell_type": "code",
   "execution_count": 3,
   "id": "fb21e97e",
   "metadata": {},
   "outputs": [],
   "source": [
    "X_train = []\n",
    "y_train = []\n",
    "\n",
    "for data in trainData:\n",
    "    img = data['image']\n",
    "    img = img.convert('L')\n",
    "    img = np.array(img)\n",
    "    X_train.append(img)\n",
    "    y_train.append(data['label'])"
   ]
  },
  {
   "cell_type": "code",
   "execution_count": 4,
   "id": "aefaf547",
   "metadata": {},
   "outputs": [
    {
     "name": "stdout",
     "output_type": "stream",
     "text": [
      "(100000, 4096)\n"
     ]
    }
   ],
   "source": [
    "X_train = np.array(X_train)\n",
    "X_train = X_train.reshape(X_train.shape[0], -1)\n",
    "print(X_train.shape)"
   ]
  },
  {
   "cell_type": "code",
   "execution_count": 5,
   "id": "80984dee",
   "metadata": {},
   "outputs": [
    {
     "name": "stdout",
     "output_type": "stream",
     "text": [
      "(100000,)\n"
     ]
    }
   ],
   "source": [
    "y_train = np.array(y_train)\n",
    "print(y_train.shape)"
   ]
  },
  {
   "cell_type": "code",
   "execution_count": 6,
   "id": "90fb1843",
   "metadata": {},
   "outputs": [],
   "source": [
    "import autosklearn.classification\n",
    "import autosklearn.metrics\n",
    "from pprint import pprint\n",
    "import joblib\n",
    "from smac.tae import StatusType \n",
    "from sklearn.metrics import accuracy_score, f1_score "
   ]
  },
  {
   "cell_type": "code",
   "execution_count": 9,
   "id": "b407e209",
   "metadata": {},
   "outputs": [
    {
     "name": "stdout",
     "output_type": "stream",
     "text": [
      "[WARNING] [2023-03-27 17:47:13,010:Client-EnsembleBuilder] No runs were available to build an ensemble from\n"
     ]
    },
    {
     "data": {
      "text/plain": [
       "AutoSklearnClassifier(ensemble_class=<class 'autosklearn.ensembles.ensemble_selection.EnsembleSelection'>,\n",
       "                      memory_limit=153600, n_jobs=-1,\n",
       "                      per_run_time_limit=14400.0, seed=101,\n",
       "                      time_left_for_this_task=43200)"
      ]
     },
     "execution_count": 9,
     "metadata": {},
     "output_type": "execute_result"
    }
   ],
   "source": [
    "automl = autosklearn.classification.AutoSklearnClassifier(\n",
    "    time_left_for_this_task=(3600*12), \n",
    "    per_run_time_limit = (3600*24)/6,\n",
    "    seed=101,\n",
    "    n_jobs=-1,\n",
    "    memory_limit= 3072*50\n",
    ")\n",
    "automl.fit(X_train, y_train)"
   ]
  },
  {
   "cell_type": "code",
   "execution_count": 10,
   "id": "8f6f1026",
   "metadata": {},
   "outputs": [
    {
     "name": "stdout",
     "output_type": "stream",
     "text": [
      "('auto-sklearn results:\\n'\n",
      " '  Dataset name: a00f45f6-cca3-11ed-9a8b-00110a6b78e8\\n'\n",
      " '  Metric: accuracy\\n'\n",
      " '  Best validation score: 0.055394\\n'\n",
      " '  Number of target algorithm runs: 66\\n'\n",
      " '  Number of successful target algorithm runs: 30\\n'\n",
      " '  Number of crashed target algorithm runs: 1\\n'\n",
      " '  Number of target algorithms that exceeded the time limit: 32\\n'\n",
      " '  Number of target algorithms that exceeded the memory limit: 3\\n')\n"
     ]
    }
   ],
   "source": [
    "pprint(automl.sprint_statistics())"
   ]
  },
  {
   "cell_type": "code",
   "execution_count": 11,
   "id": "239bbaa2",
   "metadata": {},
   "outputs": [
    {
     "name": "stdout",
     "output_type": "stream",
     "text": [
      "          rank  ensemble_weight         type      cost     duration\n",
      "model_id                                                           \n",
      "56           1             0.02  extra_trees  0.944606  2085.538455\n",
      "60           2             0.02  extra_trees  0.945000  1954.992569\n",
      "6            3             0.02  extra_trees  0.953061  5177.772418\n",
      "55           4             0.02  extra_trees  0.953788  2492.968124\n",
      "58           5             0.02          qda  0.969242  8275.014618\n",
      "32           6             0.04          qda  0.975970  1644.863952\n",
      "28           7             0.70     adaboost  0.976303  2037.303826\n",
      "31           8             0.04          sgd  0.980303   287.119997\n",
      "36           9             0.02          sgd  0.985424  6924.427040\n",
      "46          10             0.06          sgd  0.986030  2219.296108\n",
      "21          11             0.04          lda  0.994636   539.779286\n"
     ]
    }
   ],
   "source": [
    "print(automl.leaderboard())"
   ]
  },
  {
   "cell_type": "code",
   "execution_count": 12,
   "id": "bf5e6230",
   "metadata": {},
   "outputs": [
    {
     "name": "stdout",
     "output_type": "stream",
     "text": [
      "{6: {'model_id': 6, 'rank': 1, 'cost': 0.953060606060606, 'ensemble_weight': 0.02, 'data_preprocessor': <autosklearn.pipeline.components.data_preprocessing.DataPreprocessorChoice object at 0x155499ee33d0>, 'balancing': Balancing(random_state=101, strategy='weighting'), 'feature_preprocessor': <autosklearn.pipeline.components.feature_preprocessing.FeaturePreprocessorChoice object at 0x15541cbcb3d0>, 'classifier': <autosklearn.pipeline.components.classification.ClassifierChoice object at 0x1554791cd550>, 'sklearn_classifier': ExtraTreesClassifier(max_features=9, min_samples_split=6, n_estimators=512,\n",
      "                     n_jobs=1, random_state=101, warm_start=True)}, 21: {'model_id': 21, 'rank': 2, 'cost': 0.9946363636363637, 'ensemble_weight': 0.04, 'data_preprocessor': <autosklearn.pipeline.components.data_preprocessing.DataPreprocessorChoice object at 0x15541cb13ee0>, 'balancing': Balancing(random_state=101), 'feature_preprocessor': <autosklearn.pipeline.components.feature_preprocessing.FeaturePreprocessorChoice object at 0x15549bede2e0>, 'classifier': <autosklearn.pipeline.components.classification.ClassifierChoice object at 0x15549bede1f0>, 'sklearn_classifier': LinearDiscriminantAnalysis(shrinkage='auto', solver='lsqr',\n",
      "                           tol=0.018821286956948503)}, 28: {'model_id': 28, 'rank': 3, 'cost': 0.9763030303030303, 'ensemble_weight': 0.7, 'data_preprocessor': <autosklearn.pipeline.components.data_preprocessing.DataPreprocessorChoice object at 0x15541cc296a0>, 'balancing': Balancing(random_state=101), 'feature_preprocessor': <autosklearn.pipeline.components.feature_preprocessing.FeaturePreprocessorChoice object at 0x15549bdb9730>, 'classifier': <autosklearn.pipeline.components.classification.ClassifierChoice object at 0x15541e7aa370>, 'sklearn_classifier': AdaBoostClassifier(algorithm='SAMME',\n",
      "                   base_estimator=DecisionTreeClassifier(max_depth=5),\n",
      "                   learning_rate=0.023166579216827056, n_estimators=465,\n",
      "                   random_state=101)}, 31: {'model_id': 31, 'rank': 4, 'cost': 0.9803030303030303, 'ensemble_weight': 0.04, 'data_preprocessor': <autosklearn.pipeline.components.data_preprocessing.DataPreprocessorChoice object at 0x15541c66bdc0>, 'balancing': Balancing(random_state=101), 'feature_preprocessor': <autosklearn.pipeline.components.feature_preprocessing.FeaturePreprocessorChoice object at 0x15549b037e50>, 'classifier': <autosklearn.pipeline.components.classification.ClassifierChoice object at 0x155498226eb0>, 'sklearn_classifier': SGDClassifier(alpha=7.5370535249332454e-06, eta0=0.059638848623317614,\n",
      "              learning_rate='invscaling', max_iter=16,\n",
      "              power_t=0.4971076770419551, random_state=101,\n",
      "              tol=0.00027848518383644637, warm_start=True)}, 32: {'model_id': 32, 'rank': 5, 'cost': 0.9759696969696969, 'ensemble_weight': 0.04, 'data_preprocessor': <autosklearn.pipeline.components.data_preprocessing.DataPreprocessorChoice object at 0x155478391a60>, 'balancing': Balancing(random_state=101, strategy='weighting'), 'feature_preprocessor': <autosklearn.pipeline.components.feature_preprocessing.FeaturePreprocessorChoice object at 0x15541ec16a90>, 'classifier': <autosklearn.pipeline.components.classification.ClassifierChoice object at 0x15541ec160d0>, 'sklearn_classifier': QuadraticDiscriminantAnalysis(reg_param=0.14646202613014636)}, 36: {'model_id': 36, 'rank': 6, 'cost': 0.9854242424242424, 'ensemble_weight': 0.02, 'data_preprocessor': <autosklearn.pipeline.components.data_preprocessing.DataPreprocessorChoice object at 0x15541eb11bb0>, 'balancing': Balancing(random_state=101, strategy='weighting'), 'feature_preprocessor': <autosklearn.pipeline.components.feature_preprocessing.FeaturePreprocessorChoice object at 0x15541ca141c0>, 'classifier': <autosklearn.pipeline.components.classification.ClassifierChoice object at 0x15541ca14ee0>, 'sklearn_classifier': SGDClassifier(alpha=0.003730182328836023, eta0=1.9302525218159882e-07,\n",
      "              learning_rate='constant', max_iter=16, penalty='l1',\n",
      "              random_state=101, tol=0.0007086479513648518, warm_start=True)}, 46: {'model_id': 46, 'rank': 7, 'cost': 0.986030303030303, 'ensemble_weight': 0.06, 'data_preprocessor': <autosklearn.pipeline.components.data_preprocessing.DataPreprocessorChoice object at 0x155498226880>, 'balancing': Balancing(random_state=101, strategy='weighting'), 'feature_preprocessor': <autosklearn.pipeline.components.feature_preprocessing.FeaturePreprocessorChoice object at 0x1554a033cd30>, 'classifier': <autosklearn.pipeline.components.classification.ClassifierChoice object at 0x155498359070>, 'sklearn_classifier': SGDClassifier(alpha=0.0026314065428070976, average=True,\n",
      "              eta0=8.27787538948163e-07, learning_rate='constant', max_iter=16,\n",
      "              random_state=101, tol=0.011071705647427984, warm_start=True)}, 55: {'model_id': 55, 'rank': 8, 'cost': 0.9537878787878787, 'ensemble_weight': 0.02, 'data_preprocessor': <autosklearn.pipeline.components.data_preprocessing.DataPreprocessorChoice object at 0x15541c93f550>, 'balancing': Balancing(random_state=101), 'feature_preprocessor': <autosklearn.pipeline.components.feature_preprocessing.FeaturePreprocessorChoice object at 0x1554983592e0>, 'classifier': <autosklearn.pipeline.components.classification.ClassifierChoice object at 0x155498359370>, 'sklearn_classifier': ExtraTreesClassifier(bootstrap=True, criterion='entropy', max_features=1,\n",
      "                     min_samples_leaf=7, min_samples_split=16, n_estimators=512,\n",
      "                     n_jobs=1, random_state=101, warm_start=True)}, 56: {'model_id': 56, 'rank': 9, 'cost': 0.9446060606060606, 'ensemble_weight': 0.02, 'data_preprocessor': <autosklearn.pipeline.components.data_preprocessing.DataPreprocessorChoice object at 0x15541c824ca0>, 'balancing': Balancing(random_state=101, strategy='weighting'), 'feature_preprocessor': <autosklearn.pipeline.components.feature_preprocessing.FeaturePreprocessorChoice object at 0x15541c4da790>, 'classifier': <autosklearn.pipeline.components.classification.ClassifierChoice object at 0x15541c4da550>, 'sklearn_classifier': ExtraTreesClassifier(criterion='entropy', max_features=13, min_samples_leaf=2,\n",
      "                     min_samples_split=5, n_estimators=512, n_jobs=1,\n",
      "                     random_state=101, warm_start=True)}, 58: {'model_id': 58, 'rank': 10, 'cost': 0.9692424242424242, 'ensemble_weight': 0.02, 'data_preprocessor': <autosklearn.pipeline.components.data_preprocessing.DataPreprocessorChoice object at 0x1554a0141580>, 'balancing': Balancing(random_state=101, strategy='weighting'), 'feature_preprocessor': <autosklearn.pipeline.components.feature_preprocessing.FeaturePreprocessorChoice object at 0x15549bdf4a30>, 'classifier': <autosklearn.pipeline.components.classification.ClassifierChoice object at 0x15549bdf4f10>, 'sklearn_classifier': QuadraticDiscriminantAnalysis(reg_param=0.8529469811235711)}, 60: {'model_id': 60, 'rank': 11, 'cost': 0.945, 'ensemble_weight': 0.02, 'data_preprocessor': <autosklearn.pipeline.components.data_preprocessing.DataPreprocessorChoice object at 0x1554983594c0>, 'balancing': Balancing(random_state=101, strategy='weighting'), 'feature_preprocessor': <autosklearn.pipeline.components.feature_preprocessing.FeaturePreprocessorChoice object at 0x15541e9fbc40>, 'classifier': <autosklearn.pipeline.components.classification.ClassifierChoice object at 0x15540dcf9fa0>, 'sklearn_classifier': ExtraTreesClassifier(criterion='entropy', max_features=10, min_samples_leaf=11,\n",
      "                     min_samples_split=5, n_estimators=512, n_jobs=1,\n",
      "                     random_state=101, warm_start=True)}}\n"
     ]
    }
   ],
   "source": [
    "print(automl.show_models())"
   ]
  },
  {
   "cell_type": "code",
   "execution_count": 13,
   "id": "674ffa0d",
   "metadata": {},
   "outputs": [
    {
     "data": {
      "text/plain": [
       "['imagenet24.joblib']"
      ]
     },
     "execution_count": 13,
     "metadata": {},
     "output_type": "execute_result"
    }
   ],
   "source": [
    "joblib.dump(automl, 'imagenet24.joblib')"
   ]
  },
  {
   "cell_type": "code",
   "execution_count": 14,
   "id": "f9c02648",
   "metadata": {},
   "outputs": [
    {
     "name": "stdout",
     "output_type": "stream",
     "text": [
      "[WARNING] [2023-03-28 05:54:19,247:datasets.builder] Using custom data configuration Maysee--tiny-imagenet-35af7c46a941f08e\n"
     ]
    }
   ],
   "source": [
    "testData = load_dataset(\n",
    "    'Maysee/tiny-imagenet',\n",
    "    split='valid',\n",
    "    cache_dir=\"/scratch/doa240/.cache/huggingface/datasets\",\n",
    "    streaming=True,\n",
    "    ignore_verifications=True  # set to True if seeing splits Error\n",
    ")"
   ]
  },
  {
   "cell_type": "code",
   "execution_count": 15,
   "id": "7ab0014a",
   "metadata": {},
   "outputs": [],
   "source": [
    "X_test = []\n",
    "y_test = []\n",
    "\n",
    "for data in testData:\n",
    "    img = data['image']\n",
    "    img = img.convert('L')\n",
    "    img = np.array(img)\n",
    "    X_test.append(img)\n",
    "    y_test.append(data['label'])"
   ]
  },
  {
   "cell_type": "code",
   "execution_count": 16,
   "id": "c8e7e780",
   "metadata": {},
   "outputs": [
    {
     "name": "stdout",
     "output_type": "stream",
     "text": [
      "(10000, 4096)\n"
     ]
    }
   ],
   "source": [
    "X_test = np.array(X_test)\n",
    "X_test = X_test.reshape(X_test.shape[0], -1)\n",
    "print(X_test.shape)"
   ]
  },
  {
   "cell_type": "code",
   "execution_count": 17,
   "id": "f816654e",
   "metadata": {},
   "outputs": [
    {
     "name": "stdout",
     "output_type": "stream",
     "text": [
      "(10000,)\n"
     ]
    }
   ],
   "source": [
    "y_test = np.array(y_test)\n",
    "print(y_test.shape)"
   ]
  },
  {
   "cell_type": "code",
   "execution_count": null,
   "id": "312c08f3",
   "metadata": {},
   "outputs": [
    {
     "name": "stdout",
     "output_type": "stream",
     "text": [
      "Test Accuracy score 0.0652\n"
     ]
    }
   ],
   "source": [
    "# evaluate\n",
    "pred = automl.predict(X_test)\n",
    "test_acc = accuracy_score(y_test, pred)\n",
    "print(\"Test Accuracy score {0}\".format(test_acc))"
   ]
  },
  {
   "cell_type": "code",
   "execution_count": null,
   "id": "ecb0d24a",
   "metadata": {},
   "outputs": [],
   "source": [
    "classes = [0] * 1000\n",
    "classesCnt = [0] * 1000\n",
    "\n",
    "for i in range(len(pred)):\n",
    "    if pred[i] == y_test[i]:\n",
    "        classes[pred[i]] += 1\n",
    "    classesCnt[y_test[i]] += 1\n",
    "    \n",
    "for i in range(1000):\n",
    "    print(\"Label:\", i, classes[i]/classesCnt[i])"
   ]
  },
  {
   "cell_type": "code",
   "execution_count": null,
   "id": "39bac937",
   "metadata": {},
   "outputs": [],
   "source": [
    "classes = np.array(classes)\n",
    "print(np.sum(classes)/len(y_test))"
   ]
  },
  {
   "cell_type": "code",
   "execution_count": null,
   "id": "69202b20",
   "metadata": {},
   "outputs": [],
   "source": []
  },
  {
   "cell_type": "code",
   "execution_count": null,
   "id": "56f772f1",
   "metadata": {},
   "outputs": [],
   "source": []
  },
  {
   "cell_type": "code",
   "execution_count": null,
   "id": "1cfe991a",
   "metadata": {},
   "outputs": [],
   "source": []
  }
 ],
 "metadata": {
  "kernelspec": {
   "display_name": "PytorchKernel",
   "language": "python",
   "name": "pytorch"
  },
  "language_info": {
   "codemirror_mode": {
    "name": "ipython",
    "version": 3
   },
   "file_extension": ".py",
   "mimetype": "text/x-python",
   "name": "python",
   "nbconvert_exporter": "python",
   "pygments_lexer": "ipython3",
   "version": "3.9.12"
  }
 },
 "nbformat": 4,
 "nbformat_minor": 5
}
