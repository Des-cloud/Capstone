{
 "cells": [
  {
   "cell_type": "code",
   "execution_count": 1,
   "id": "cbe3ca25",
   "metadata": {},
   "outputs": [],
   "source": [
    "from datasets import load_dataset\n",
    "import numpy as np"
   ]
  },
  {
   "cell_type": "code",
   "execution_count": 2,
   "id": "15568264",
   "metadata": {},
   "outputs": [],
   "source": [
    "trainData = load_dataset(\n",
    "    'cifar10',\n",
    "    split='train',\n",
    "    cache_dir=\"/scratch/doa240/.cache/huggingface/datasets\",\n",
    "    streaming=True,\n",
    "    ignore_verifications=True  # set to True if seeing splits Error\n",
    ")\n",
    "trainData = trainData.shuffle(seed=101)"
   ]
  },
  {
   "cell_type": "code",
   "execution_count": 3,
   "id": "4f5c84db",
   "metadata": {},
   "outputs": [],
   "source": [
    "X_train = []\n",
    "y_train = []\n",
    "\n",
    "for data in trainData:\n",
    "    img = data['img']\n",
    "    img = img.convert('L')\n",
    "    img = np.array(img)\n",
    "    X_train.append(img)\n",
    "    y_train.append(data['label'])"
   ]
  },
  {
   "cell_type": "code",
   "execution_count": 4,
   "id": "f2d8fa15",
   "metadata": {},
   "outputs": [
    {
     "name": "stdout",
     "output_type": "stream",
     "text": [
      "(50000, 1024)\n"
     ]
    }
   ],
   "source": [
    "X_train = np.array(X_train)\n",
    "X_train = X_train.reshape(X_train.shape[0], -1)\n",
    "print(X_train.shape)"
   ]
  },
  {
   "cell_type": "code",
   "execution_count": 5,
   "id": "58ecfdf6",
   "metadata": {},
   "outputs": [
    {
     "name": "stdout",
     "output_type": "stream",
     "text": [
      "(50000,)\n"
     ]
    }
   ],
   "source": [
    "y_train = np.array(y_train)\n",
    "print(y_train.shape)"
   ]
  },
  {
   "cell_type": "code",
   "execution_count": 6,
   "id": "6493304b",
   "metadata": {},
   "outputs": [],
   "source": [
    "import autosklearn.classification\n",
    "import autosklearn.metrics\n",
    "from pprint import pprint\n",
    "import joblib\n",
    "from smac.tae import StatusType \n",
    "from sklearn.metrics import accuracy_score, f1_score "
   ]
  },
  {
   "cell_type": "code",
   "execution_count": 7,
   "id": "e588f6b2",
   "metadata": {
    "scrolled": true
   },
   "outputs": [
    {
     "name": "stdout",
     "output_type": "stream",
     "text": [
      "[WARNING] [2023-03-25 23:16:44,841:Client-EnsembleBuilder] No runs were available to build an ensemble from\n",
      "[WARNING] [2023-03-25 23:16:53,710:Client-EnsembleBuilder] No runs were available to build an ensemble from\n",
      "[WARNING] [2023-03-25 23:16:54,214:Client-EnsembleBuilder] No runs were available to build an ensemble from\n",
      "[WARNING] [2023-03-25 23:16:54,497:Client-EnsembleBuilder] No runs were available to build an ensemble from\n",
      "[WARNING] [2023-03-25 23:17:03,070:Client-EnsembleBuilder] No runs were available to build an ensemble from\n",
      "[WARNING] [2023-03-25 23:17:11,322:Client-EnsembleBuilder] No runs were available to build an ensemble from\n",
      "[WARNING] [2023-03-25 23:17:24,615:Client-EnsembleBuilder] No runs were available to build an ensemble from\n",
      "[WARNING] [2023-03-25 23:17:43,831:Client-EnsembleBuilder] No runs were available to build an ensemble from\n",
      "[WARNING] [2023-03-25 23:17:54,843:Client-EnsembleBuilder] No runs were available to build an ensemble from\n",
      "[WARNING] [2023-03-25 23:18:05,855:Client-EnsembleBuilder] No runs were available to build an ensemble from\n",
      "[WARNING] [2023-03-25 23:18:29,900:Client-EnsembleBuilder] No runs were available to build an ensemble from\n"
     ]
    },
    {
     "data": {
      "text/plain": [
       "AutoSklearnClassifier(ensemble_class=<class 'autosklearn.ensembles.ensemble_selection.EnsembleSelection'>,\n",
       "                      n_jobs=-1, per_run_time_limit=3600, seed=101,\n",
       "                      time_left_for_this_task=21600)"
      ]
     },
     "execution_count": 7,
     "metadata": {},
     "output_type": "execute_result"
    }
   ],
   "source": [
    "automl = autosklearn.classification.AutoSklearnClassifier(\n",
    "    time_left_for_this_task=3600*6, \n",
    "    per_run_time_limit = 3600,\n",
    "    seed=101,\n",
    "    n_jobs=-1\n",
    ")\n",
    "automl.fit(X_train, y_train)"
   ]
  },
  {
   "cell_type": "code",
   "execution_count": 8,
   "id": "2f76a9bf",
   "metadata": {},
   "outputs": [
    {
     "name": "stdout",
     "output_type": "stream",
     "text": [
      "('auto-sklearn results:\\n'\n",
      " '  Dataset name: 8c8d5fe5-cb41-11ed-8d2c-00110a6b78e8\\n'\n",
      " '  Metric: accuracy\\n'\n",
      " '  Best validation score: 0.488242\\n'\n",
      " '  Number of target algorithm runs: 631\\n'\n",
      " '  Number of successful target algorithm runs: 277\\n'\n",
      " '  Number of crashed target algorithm runs: 45\\n'\n",
      " '  Number of target algorithms that exceeded the time limit: 84\\n'\n",
      " '  Number of target algorithms that exceeded the memory limit: 225\\n')\n"
     ]
    }
   ],
   "source": [
    "pprint(automl.sprint_statistics())"
   ]
  },
  {
   "cell_type": "code",
   "execution_count": 9,
   "id": "5fa59fc4",
   "metadata": {},
   "outputs": [
    {
     "name": "stdout",
     "output_type": "stream",
     "text": [
      "          rank  ensemble_weight               type      cost     duration\n",
      "model_id                                                                 \n",
      "411          1             0.02  gradient_boosting  0.511758  2613.969324\n",
      "556          2             0.02  gradient_boosting  0.513394  3011.279015\n",
      "521          3             0.02  gradient_boosting  0.515333  1580.523910\n",
      "572          4             0.02  gradient_boosting  0.516303  2273.191973\n",
      "562          5             0.02  gradient_boosting  0.516788  2054.284811\n",
      "565          7             0.04  gradient_boosting  0.517152  2113.286489\n",
      "570          6             0.02  gradient_boosting  0.517152  2434.458619\n",
      "542          8             0.04  gradient_boosting  0.517212  1436.065849\n",
      "559          9             0.02  gradient_boosting  0.518000  1982.797989\n",
      "489         10             0.02  gradient_boosting  0.518121  2572.393734\n",
      "245         11             0.02  gradient_boosting  0.518242  3109.165267\n",
      "505         12             0.02  gradient_boosting  0.518727  3048.077907\n",
      "560         13             0.02  gradient_boosting  0.519273  2326.611053\n",
      "253         14             0.02  gradient_boosting  0.520182  3136.818940\n",
      "477         15             0.08  gradient_boosting  0.520485  2111.738914\n",
      "501         16             0.06  gradient_boosting  0.520606  1781.282448\n",
      "584         17             0.02  gradient_boosting  0.521576  2156.900414\n",
      "563         18             0.06  gradient_boosting  0.521758  1544.128337\n",
      "291         19             0.02  gradient_boosting  0.521939  2232.156854\n",
      "585         20             0.02  gradient_boosting  0.522182  1551.061688\n",
      "517         21             0.02  gradient_boosting  0.522424  1475.399498\n",
      "466         22             0.06  gradient_boosting  0.522545  2066.176146\n",
      "239         23             0.04  gradient_boosting  0.523273  2261.603349\n",
      "467         24             0.02  gradient_boosting  0.523939  2365.448554\n",
      "373         25             0.02  gradient_boosting  0.524606  2157.640114\n",
      "497         26             0.06  gradient_boosting  0.524970  2607.657009\n",
      "388         27             0.08  gradient_boosting  0.525758  2189.380481\n",
      "547         28             0.04  gradient_boosting  0.525818  1692.201231\n",
      "561         29             0.02  gradient_boosting  0.526182  3522.664980\n",
      "390         30             0.02  gradient_boosting  0.526970  2172.186723\n",
      "366         31             0.04  gradient_boosting  0.527394  3230.810086\n"
     ]
    }
   ],
   "source": [
    "print(automl.leaderboard())"
   ]
  },
  {
   "cell_type": "code",
   "execution_count": 10,
   "id": "05ad3fde",
   "metadata": {},
   "outputs": [
    {
     "name": "stdout",
     "output_type": "stream",
     "text": [
      "{239: {'model_id': 239, 'rank': 1, 'cost': 0.5232727272727273, 'ensemble_weight': 0.04, 'data_preprocessor': <autosklearn.pipeline.components.data_preprocessing.DataPreprocessorChoice object at 0x155524b9d340>, 'balancing': Balancing(random_state=101), 'feature_preprocessor': <autosklearn.pipeline.components.feature_preprocessing.FeaturePreprocessorChoice object at 0x15552542b520>, 'classifier': <autosklearn.pipeline.components.classification.ClassifierChoice object at 0x1554d9f06b50>, 'sklearn_classifier': HistGradientBoostingClassifier(early_stopping=True,\n",
      "                               l2_regularization=2.1102733168765376e-05,\n",
      "                               learning_rate=0.12560435518379692, max_iter=512,\n",
      "                               max_leaf_nodes=22, min_samples_leaf=9,\n",
      "                               random_state=101, validation_fraction=None,\n",
      "                               warm_start=True)}, 245: {'model_id': 245, 'rank': 2, 'cost': 0.5182424242424242, 'ensemble_weight': 0.02, 'data_preprocessor': <autosklearn.pipeline.components.data_preprocessing.DataPreprocessorChoice object at 0x1555255d2e20>, 'balancing': Balancing(random_state=101), 'feature_preprocessor': <autosklearn.pipeline.components.feature_preprocessing.FeaturePreprocessorChoice object at 0x1554dfb30d90>, 'classifier': <autosklearn.pipeline.components.classification.ClassifierChoice object at 0x1554946a5700>, 'sklearn_classifier': HistGradientBoostingClassifier(early_stopping=True,\n",
      "                               l2_regularization=6.36559084864108e-05,\n",
      "                               learning_rate=0.033623779242204006, max_iter=512,\n",
      "                               max_leaf_nodes=62, min_samples_leaf=72,\n",
      "                               n_iter_no_change=14, random_state=101,\n",
      "                               validation_fraction=None, warm_start=True)}, 253: {'model_id': 253, 'rank': 3, 'cost': 0.5201818181818182, 'ensemble_weight': 0.02, 'data_preprocessor': <autosklearn.pipeline.components.data_preprocessing.DataPreprocessorChoice object at 0x1555252cb6d0>, 'balancing': Balancing(random_state=101, strategy='weighting'), 'feature_preprocessor': <autosklearn.pipeline.components.feature_preprocessing.FeaturePreprocessorChoice object at 0x1553d430e880>, 'classifier': <autosklearn.pipeline.components.classification.ClassifierChoice object at 0x1553d430eac0>, 'sklearn_classifier': HistGradientBoostingClassifier(early_stopping=True,\n",
      "                               l2_regularization=1.8408857811168756e-10,\n",
      "                               learning_rate=0.12146107443914748, max_iter=512,\n",
      "                               max_leaf_nodes=13, min_samples_leaf=38,\n",
      "                               n_iter_no_change=20, random_state=101,\n",
      "                               validation_fraction=None, warm_start=True)}, 291: {'model_id': 291, 'rank': 4, 'cost': 0.5219393939393939, 'ensemble_weight': 0.02, 'data_preprocessor': <autosklearn.pipeline.components.data_preprocessing.DataPreprocessorChoice object at 0x15541b109250>, 'balancing': Balancing(random_state=101, strategy='weighting'), 'feature_preprocessor': <autosklearn.pipeline.components.feature_preprocessing.FeaturePreprocessorChoice object at 0x1553b4c19610>, 'classifier': <autosklearn.pipeline.components.classification.ClassifierChoice object at 0x1553b4c19850>, 'sklearn_classifier': HistGradientBoostingClassifier(early_stopping=True,\n",
      "                               l2_regularization=8.013653631874606e-07,\n",
      "                               learning_rate=0.0715861966256705, max_iter=512,\n",
      "                               max_leaf_nodes=23, min_samples_leaf=56,\n",
      "                               random_state=101, validation_fraction=None,\n",
      "                               warm_start=True)}, 366: {'model_id': 366, 'rank': 5, 'cost': 0.5273939393939394, 'ensemble_weight': 0.04, 'data_preprocessor': <autosklearn.pipeline.components.data_preprocessing.DataPreprocessorChoice object at 0x1554d8a2a9d0>, 'balancing': Balancing(random_state=101, strategy='weighting'), 'feature_preprocessor': <autosklearn.pipeline.components.feature_preprocessing.FeaturePreprocessorChoice object at 0x1554da7595e0>, 'classifier': <autosklearn.pipeline.components.classification.ClassifierChoice object at 0x1554da759820>, 'sklearn_classifier': HistGradientBoostingClassifier(early_stopping=True,\n",
      "                               l2_regularization=0.052668644911585835,\n",
      "                               learning_rate=0.21185343747631122, max_iter=512,\n",
      "                               max_leaf_nodes=26, min_samples_leaf=44,\n",
      "                               n_iter_no_change=12, random_state=101,\n",
      "                               validation_fraction=None, warm_start=True)}, 373: {'model_id': 373, 'rank': 6, 'cost': 0.5246060606060606, 'ensemble_weight': 0.02, 'data_preprocessor': <autosklearn.pipeline.components.data_preprocessing.DataPreprocessorChoice object at 0x1553b42596a0>, 'balancing': Balancing(random_state=101, strategy='weighting'), 'feature_preprocessor': <autosklearn.pipeline.components.feature_preprocessing.FeaturePreprocessorChoice object at 0x1553a84fe250>, 'classifier': <autosklearn.pipeline.components.classification.ClassifierChoice object at 0x1553a84fe490>, 'sklearn_classifier': HistGradientBoostingClassifier(early_stopping=True,\n",
      "                               l2_regularization=0.04741276380320743,\n",
      "                               learning_rate=0.2902714065860496, max_iter=512,\n",
      "                               max_leaf_nodes=26, min_samples_leaf=72,\n",
      "                               n_iter_no_change=13, random_state=101,\n",
      "                               validation_fraction=None, warm_start=True)}, 388: {'model_id': 388, 'rank': 7, 'cost': 0.5257575757575758, 'ensemble_weight': 0.08, 'data_preprocessor': <autosklearn.pipeline.components.data_preprocessing.DataPreprocessorChoice object at 0x1553a854feb0>, 'balancing': Balancing(random_state=101), 'feature_preprocessor': <autosklearn.pipeline.components.feature_preprocessing.FeaturePreprocessorChoice object at 0x15538bc13d60>, 'classifier': <autosklearn.pipeline.components.classification.ClassifierChoice object at 0x15538bc13fa0>, 'sklearn_classifier': HistGradientBoostingClassifier(early_stopping=False,\n",
      "                               l2_regularization=0.03809010694512703,\n",
      "                               learning_rate=0.23930030420313872, max_iter=512,\n",
      "                               max_leaf_nodes=27, min_samples_leaf=33,\n",
      "                               n_iter_no_change=0, random_state=101,\n",
      "                               validation_fraction=None, warm_start=True)}, 390: {'model_id': 390, 'rank': 8, 'cost': 0.526969696969697, 'ensemble_weight': 0.02, 'data_preprocessor': <autosklearn.pipeline.components.data_preprocessing.DataPreprocessorChoice object at 0x1553a855b1c0>, 'balancing': Balancing(random_state=101), 'feature_preprocessor': <autosklearn.pipeline.components.feature_preprocessing.FeaturePreprocessorChoice object at 0x15538b365640>, 'classifier': <autosklearn.pipeline.components.classification.ClassifierChoice object at 0x15538b338be0>, 'sklearn_classifier': HistGradientBoostingClassifier(early_stopping=True,\n",
      "                               l2_regularization=4.125787973396709e-06,\n",
      "                               learning_rate=0.12560435518379692, max_iter=512,\n",
      "                               max_leaf_nodes=22, min_samples_leaf=25,\n",
      "                               n_iter_no_change=11, random_state=101,\n",
      "                               validation_fraction=None, warm_start=True)}, 411: {'model_id': 411, 'rank': 9, 'cost': 0.5117575757575757, 'ensemble_weight': 0.02, 'data_preprocessor': <autosklearn.pipeline.components.data_preprocessing.DataPreprocessorChoice object at 0x1553a84f3be0>, 'balancing': Balancing(random_state=101, strategy='weighting'), 'feature_preprocessor': <autosklearn.pipeline.components.feature_preprocessing.FeaturePreprocessorChoice object at 0x15538aa0ec10>, 'classifier': <autosklearn.pipeline.components.classification.ClassifierChoice object at 0x15538aa0ee50>, 'sklearn_classifier': HistGradientBoostingClassifier(early_stopping=True,\n",
      "                               l2_regularization=0.052668644911585835,\n",
      "                               learning_rate=0.1316943228620961, max_iter=512,\n",
      "                               max_leaf_nodes=26, min_samples_leaf=37,\n",
      "                               n_iter_no_change=15, random_state=101,\n",
      "                               validation_fraction=None, warm_start=True)}, 466: {'model_id': 466, 'rank': 10, 'cost': 0.5225454545454545, 'ensemble_weight': 0.06, 'data_preprocessor': <autosklearn.pipeline.components.data_preprocessing.DataPreprocessorChoice object at 0x15538b3426d0>, 'balancing': Balancing(random_state=101, strategy='weighting'), 'feature_preprocessor': <autosklearn.pipeline.components.feature_preprocessing.FeaturePreprocessorChoice object at 0x155389f7c730>, 'classifier': <autosklearn.pipeline.components.classification.ClassifierChoice object at 0x155389189f70>, 'sklearn_classifier': HistGradientBoostingClassifier(early_stopping=True,\n",
      "                               l2_regularization=6.954509404516516e-06,\n",
      "                               learning_rate=0.1261251564725294, max_iter=512,\n",
      "                               max_leaf_nodes=25, min_samples_leaf=51,\n",
      "                               n_iter_no_change=11, random_state=101,\n",
      "                               validation_fraction=None, warm_start=True)}, 467: {'model_id': 467, 'rank': 11, 'cost': 0.5239393939393939, 'ensemble_weight': 0.02, 'data_preprocessor': <autosklearn.pipeline.components.data_preprocessing.DataPreprocessorChoice object at 0x15538aa709d0>, 'balancing': Balancing(random_state=101), 'feature_preprocessor': <autosklearn.pipeline.components.feature_preprocessing.FeaturePreprocessorChoice object at 0x1553894c5ca0>, 'classifier': <autosklearn.pipeline.components.classification.ClassifierChoice object at 0x155389145ee0>, 'sklearn_classifier': HistGradientBoostingClassifier(early_stopping=True,\n",
      "                               l2_regularization=0.00016070646740851333,\n",
      "                               learning_rate=0.1243135471250902, max_iter=512,\n",
      "                               max_leaf_nodes=27, min_samples_leaf=28,\n",
      "                               random_state=101, validation_fraction=None,\n",
      "                               warm_start=True)}, 477: {'model_id': 477, 'rank': 12, 'cost': 0.5204848484848486, 'ensemble_weight': 0.08, 'data_preprocessor': <autosklearn.pipeline.components.data_preprocessing.DataPreprocessorChoice object at 0x155389f4f850>, 'balancing': Balancing(random_state=101), 'feature_preprocessor': <autosklearn.pipeline.components.feature_preprocessing.FeaturePreprocessorChoice object at 0x15548c3f8130>, 'classifier': <autosklearn.pipeline.components.classification.ClassifierChoice object at 0x15548c3f8490>, 'sklearn_classifier': HistGradientBoostingClassifier(early_stopping=True,\n",
      "                               l2_regularization=0.003629506118537458,\n",
      "                               learning_rate=0.1137843549316228, max_iter=512,\n",
      "                               max_leaf_nodes=27, min_samples_leaf=34,\n",
      "                               n_iter_no_change=14, random_state=101,\n",
      "                               validation_fraction=None, warm_start=True)}, 489: {'model_id': 489, 'rank': 13, 'cost': 0.5181212121212121, 'ensemble_weight': 0.02, 'data_preprocessor': <autosklearn.pipeline.components.data_preprocessing.DataPreprocessorChoice object at 0x155389527b80>, 'balancing': Balancing(random_state=101), 'feature_preprocessor': <autosklearn.pipeline.components.feature_preprocessing.FeaturePreprocessorChoice object at 0x155525006640>, 'classifier': <autosklearn.pipeline.components.classification.ClassifierChoice object at 0x1555250060d0>, 'sklearn_classifier': HistGradientBoostingClassifier(early_stopping=True,\n",
      "                               l2_regularization=8.225803138516375e-05,\n",
      "                               learning_rate=0.10499909210811041, max_iter=512,\n",
      "                               max_leaf_nodes=25, min_samples_leaf=56,\n",
      "                               random_state=101, validation_fraction=None,\n",
      "                               warm_start=True)}, 497: {'model_id': 497, 'rank': 14, 'cost': 0.524969696969697, 'ensemble_weight': 0.06, 'data_preprocessor': <autosklearn.pipeline.components.data_preprocessing.DataPreprocessorChoice object at 0x155419b833d0>, 'balancing': Balancing(random_state=101), 'feature_preprocessor': <autosklearn.pipeline.components.feature_preprocessing.FeaturePreprocessorChoice object at 0x15541bf8d850>, 'classifier': <autosklearn.pipeline.components.classification.ClassifierChoice object at 0x1553e4b7b5b0>, 'sklearn_classifier': HistGradientBoostingClassifier(early_stopping=True,\n",
      "                               l2_regularization=9.862417563940628e-06,\n",
      "                               learning_rate=0.06909005582298211, max_iter=512,\n",
      "                               max_leaf_nodes=22, min_samples_leaf=55,\n",
      "                               n_iter_no_change=12, random_state=101,\n",
      "                               validation_fraction=None, warm_start=True)}, 501: {'model_id': 501, 'rank': 15, 'cost': 0.5206060606060606, 'ensemble_weight': 0.06, 'data_preprocessor': <autosklearn.pipeline.components.data_preprocessing.DataPreprocessorChoice object at 0x155389f19bb0>, 'balancing': Balancing(random_state=101), 'feature_preprocessor': <autosklearn.pipeline.components.feature_preprocessing.FeaturePreprocessorChoice object at 0x1553da3a8d00>, 'classifier': <autosklearn.pipeline.components.classification.ClassifierChoice object at 0x15540467c250>, 'sklearn_classifier': HistGradientBoostingClassifier(early_stopping=True,\n",
      "                               l2_regularization=9.260628336808181e-06,\n",
      "                               learning_rate=0.12798779864353882, max_iter=512,\n",
      "                               max_leaf_nodes=27, min_samples_leaf=71,\n",
      "                               n_iter_no_change=13, random_state=101,\n",
      "                               validation_fraction=None, warm_start=True)}, 505: {'model_id': 505, 'rank': 16, 'cost': 0.5187272727272727, 'ensemble_weight': 0.02, 'data_preprocessor': <autosklearn.pipeline.components.data_preprocessing.DataPreprocessorChoice object at 0x15541bf8a8e0>, 'balancing': Balancing(random_state=101), 'feature_preprocessor': <autosklearn.pipeline.components.feature_preprocessing.FeaturePreprocessorChoice object at 0x1553b6f4d760>, 'classifier': <autosklearn.pipeline.components.classification.ClassifierChoice object at 0x1553b6f4dbe0>, 'sklearn_classifier': HistGradientBoostingClassifier(early_stopping=True,\n",
      "                               l2_regularization=0.0014511961125630848,\n",
      "                               learning_rate=0.1194970671614072, max_iter=512,\n",
      "                               max_leaf_nodes=27, min_samples_leaf=44,\n",
      "                               n_iter_no_change=11, random_state=101,\n",
      "                               validation_fraction=None, warm_start=True)}, 517: {'model_id': 517, 'rank': 17, 'cost': 0.5224242424242425, 'ensemble_weight': 0.02, 'data_preprocessor': <autosklearn.pipeline.components.data_preprocessing.DataPreprocessorChoice object at 0x1553da39d520>, 'balancing': Balancing(random_state=101), 'feature_preprocessor': <autosklearn.pipeline.components.feature_preprocessing.FeaturePreprocessorChoice object at 0x1554d924e640>, 'classifier': <autosklearn.pipeline.components.classification.ClassifierChoice object at 0x1554d924e880>, 'sklearn_classifier': HistGradientBoostingClassifier(early_stopping=True,\n",
      "                               l2_regularization=0.006182916649176073,\n",
      "                               learning_rate=0.09890318209961078, max_iter=512,\n",
      "                               max_leaf_nodes=21, min_samples_leaf=37,\n",
      "                               n_iter_no_change=12, random_state=101,\n",
      "                               validation_fraction=None, warm_start=True)}, 521: {'model_id': 521, 'rank': 18, 'cost': 0.5153333333333333, 'ensemble_weight': 0.02, 'data_preprocessor': <autosklearn.pipeline.components.data_preprocessing.DataPreprocessorChoice object at 0x1553dec147c0>, 'balancing': Balancing(random_state=101), 'feature_preprocessor': <autosklearn.pipeline.components.feature_preprocessing.FeaturePreprocessorChoice object at 0x155412cfaf40>, 'classifier': <autosklearn.pipeline.components.classification.ClassifierChoice object at 0x155412cc71c0>, 'sklearn_classifier': HistGradientBoostingClassifier(early_stopping=True,\n",
      "                               l2_regularization=0.00486170774608589,\n",
      "                               learning_rate=0.12945883321728927, max_iter=512,\n",
      "                               max_leaf_nodes=27, min_samples_leaf=44,\n",
      "                               n_iter_no_change=13, random_state=101,\n",
      "                               validation_fraction=None, warm_start=True)}, 542: {'model_id': 542, 'rank': 19, 'cost': 0.5172121212121212, 'ensemble_weight': 0.04, 'data_preprocessor': <autosklearn.pipeline.components.data_preprocessing.DataPreprocessorChoice object at 0x1554d92626d0>, 'balancing': Balancing(random_state=101, strategy='weighting'), 'feature_preprocessor': <autosklearn.pipeline.components.feature_preprocessing.FeaturePreprocessorChoice object at 0x1553e7874af0>, 'classifier': <autosklearn.pipeline.components.classification.ClassifierChoice object at 0x1553e7874d30>, 'sklearn_classifier': HistGradientBoostingClassifier(early_stopping=True,\n",
      "                               l2_regularization=0.004774737282878304,\n",
      "                               learning_rate=0.14866689512453699, max_iter=512,\n",
      "                               max_leaf_nodes=28, min_samples_leaf=26,\n",
      "                               random_state=101, validation_fraction=None,\n",
      "                               warm_start=True)}, 547: {'model_id': 547, 'rank': 20, 'cost': 0.5258181818181817, 'ensemble_weight': 0.04, 'data_preprocessor': <autosklearn.pipeline.components.data_preprocessing.DataPreprocessorChoice object at 0x1554d924e250>, 'balancing': Balancing(random_state=101, strategy='weighting'), 'feature_preprocessor': <autosklearn.pipeline.components.feature_preprocessing.FeaturePreprocessorChoice object at 0x1553e8c52130>, 'classifier': <autosklearn.pipeline.components.classification.ClassifierChoice object at 0x1553e8c52370>, 'sklearn_classifier': HistGradientBoostingClassifier(early_stopping=True,\n",
      "                               l2_regularization=0.01648504467525839,\n",
      "                               learning_rate=0.08971103594541671, max_iter=512,\n",
      "                               max_leaf_nodes=30, min_samples_leaf=35,\n",
      "                               n_iter_no_change=14, random_state=101,\n",
      "                               validation_fraction=None, warm_start=True)}, 556: {'model_id': 556, 'rank': 21, 'cost': 0.5133939393939394, 'ensemble_weight': 0.02, 'data_preprocessor': <autosklearn.pipeline.components.data_preprocessing.DataPreprocessorChoice object at 0x155412cfa490>, 'balancing': Balancing(random_state=101), 'feature_preprocessor': <autosklearn.pipeline.components.feature_preprocessing.FeaturePreprocessorChoice object at 0x1553ad972460>, 'classifier': <autosklearn.pipeline.components.classification.ClassifierChoice object at 0x1553ad9726a0>, 'sklearn_classifier': HistGradientBoostingClassifier(early_stopping=True,\n",
      "                               l2_regularization=1.4433113761424398e-05,\n",
      "                               learning_rate=0.10226786767300045, max_iter=512,\n",
      "                               max_leaf_nodes=29, min_samples_leaf=46,\n",
      "                               n_iter_no_change=14, random_state=101,\n",
      "                               validation_fraction=None, warm_start=True)}, 559: {'model_id': 559, 'rank': 22, 'cost': 0.518, 'ensemble_weight': 0.02, 'data_preprocessor': <autosklearn.pipeline.components.data_preprocessing.DataPreprocessorChoice object at 0x1553e787af70>, 'balancing': Balancing(random_state=101), 'feature_preprocessor': <autosklearn.pipeline.components.feature_preprocessing.FeaturePreprocessorChoice object at 0x1554192306d0>, 'classifier': <autosklearn.pipeline.components.classification.ClassifierChoice object at 0x155419230910>, 'sklearn_classifier': HistGradientBoostingClassifier(early_stopping=True,\n",
      "                               l2_regularization=0.017572031874984156,\n",
      "                               learning_rate=0.12968529556238417, max_iter=512,\n",
      "                               max_leaf_nodes=26, min_samples_leaf=43,\n",
      "                               n_iter_no_change=17, random_state=101,\n",
      "                               validation_fraction=None, warm_start=True)}, 560: {'model_id': 560, 'rank': 23, 'cost': 0.5192727272727273, 'ensemble_weight': 0.02, 'data_preprocessor': <autosklearn.pipeline.components.data_preprocessing.DataPreprocessorChoice object at 0x1553f81da3d0>, 'balancing': Balancing(random_state=101, strategy='weighting'), 'feature_preprocessor': <autosklearn.pipeline.components.feature_preprocessing.FeaturePreprocessorChoice object at 0x1553da86b670>, 'classifier': <autosklearn.pipeline.components.classification.ClassifierChoice object at 0x1553da86b8b0>, 'sklearn_classifier': HistGradientBoostingClassifier(early_stopping=True,\n",
      "                               l2_regularization=0.05012515229891148,\n",
      "                               learning_rate=0.1991804303253403, max_iter=512,\n",
      "                               max_leaf_nodes=30, min_samples_leaf=26,\n",
      "                               n_iter_no_change=14, random_state=101,\n",
      "                               validation_fraction=None, warm_start=True)}, 561: {'model_id': 561, 'rank': 24, 'cost': 0.5261818181818182, 'ensemble_weight': 0.02, 'data_preprocessor': <autosklearn.pipeline.components.data_preprocessing.DataPreprocessorChoice object at 0x1554192226d0>, 'balancing': Balancing(random_state=101), 'feature_preprocessor': <autosklearn.pipeline.components.feature_preprocessing.FeaturePreprocessorChoice object at 0x1553e3898ca0>, 'classifier': <autosklearn.pipeline.components.classification.ClassifierChoice object at 0x15541b50f280>, 'sklearn_classifier': HistGradientBoostingClassifier(early_stopping=True,\n",
      "                               l2_regularization=0.0007661990016002531,\n",
      "                               learning_rate=0.0941482153696478, max_iter=512,\n",
      "                               max_leaf_nodes=28, min_samples_leaf=9,\n",
      "                               random_state=101, validation_fraction=None,\n",
      "                               warm_start=True)}, 562: {'model_id': 562, 'rank': 25, 'cost': 0.5167878787878788, 'ensemble_weight': 0.02, 'data_preprocessor': <autosklearn.pipeline.components.data_preprocessing.DataPreprocessorChoice object at 0x15541b785a60>, 'balancing': Balancing(random_state=101, strategy='weighting'), 'feature_preprocessor': <autosklearn.pipeline.components.feature_preprocessing.FeaturePreprocessorChoice object at 0x1553e32b9e80>, 'classifier': <autosklearn.pipeline.components.classification.ClassifierChoice object at 0x1553e91a8160>, 'sklearn_classifier': HistGradientBoostingClassifier(early_stopping=True,\n",
      "                               l2_regularization=0.06075041770582412,\n",
      "                               learning_rate=0.13492393820603224, max_iter=512,\n",
      "                               max_leaf_nodes=28, min_samples_leaf=50,\n",
      "                               n_iter_no_change=13, random_state=101,\n",
      "                               validation_fraction=None, warm_start=True)}, 563: {'model_id': 563, 'rank': 26, 'cost': 0.5217575757575758, 'ensemble_weight': 0.06, 'data_preprocessor': <autosklearn.pipeline.components.data_preprocessing.DataPreprocessorChoice object at 0x1553da86b0d0>, 'balancing': Balancing(random_state=101, strategy='weighting'), 'feature_preprocessor': <autosklearn.pipeline.components.feature_preprocessing.FeaturePreprocessorChoice object at 0x1553dad71760>, 'classifier': <autosklearn.pipeline.components.classification.ClassifierChoice object at 0x1553dad719a0>, 'sklearn_classifier': HistGradientBoostingClassifier(early_stopping=True,\n",
      "                               l2_regularization=0.014748884609752934,\n",
      "                               learning_rate=0.07814602889881629, max_iter=512,\n",
      "                               max_leaf_nodes=29, min_samples_leaf=87,\n",
      "                               n_iter_no_change=16, random_state=101,\n",
      "                               validation_fraction=None, warm_start=True)}, 565: {'model_id': 565, 'rank': 27, 'cost': 0.5171515151515151, 'ensemble_weight': 0.04, 'data_preprocessor': <autosklearn.pipeline.components.data_preprocessing.DataPreprocessorChoice object at 0x1553e3282730>, 'balancing': Balancing(random_state=101, strategy='weighting'), 'feature_preprocessor': <autosklearn.pipeline.components.feature_preprocessing.FeaturePreprocessorChoice object at 0x1553ddef5a30>, 'classifier': <autosklearn.pipeline.components.classification.ClassifierChoice object at 0x1553ddef5c70>, 'sklearn_classifier': HistGradientBoostingClassifier(early_stopping=True,\n",
      "                               l2_regularization=0.04619916119386344,\n",
      "                               learning_rate=0.1316943228620961, max_iter=512,\n",
      "                               max_leaf_nodes=27, min_samples_leaf=37,\n",
      "                               n_iter_no_change=13, random_state=101,\n",
      "                               validation_fraction=None, warm_start=True)}, 570: {'model_id': 570, 'rank': 28, 'cost': 0.5171515151515151, 'ensemble_weight': 0.02, 'data_preprocessor': <autosklearn.pipeline.components.data_preprocessing.DataPreprocessorChoice object at 0x155419ba27f0>, 'balancing': Balancing(random_state=101, strategy='weighting'), 'feature_preprocessor': <autosklearn.pipeline.components.feature_preprocessing.FeaturePreprocessorChoice object at 0x155494689a30>, 'classifier': <autosklearn.pipeline.components.classification.ClassifierChoice object at 0x155494689c70>, 'sklearn_classifier': HistGradientBoostingClassifier(early_stopping=True,\n",
      "                               l2_regularization=0.006059828028238387,\n",
      "                               learning_rate=0.1349830049688303, max_iter=512,\n",
      "                               max_leaf_nodes=30, min_samples_leaf=47,\n",
      "                               n_iter_no_change=5, random_state=101,\n",
      "                               validation_fraction=None, warm_start=True)}, 572: {'model_id': 572, 'rank': 29, 'cost': 0.5163030303030303, 'ensemble_weight': 0.02, 'data_preprocessor': <autosklearn.pipeline.components.data_preprocessing.DataPreprocessorChoice object at 0x1553ecd35be0>, 'balancing': Balancing(random_state=101), 'feature_preprocessor': <autosklearn.pipeline.components.feature_preprocessing.FeaturePreprocessorChoice object at 0x1553ec7bb910>, 'classifier': <autosklearn.pipeline.components.classification.ClassifierChoice object at 0x1553ec7bbb50>, 'sklearn_classifier': HistGradientBoostingClassifier(early_stopping=True,\n",
      "                               l2_regularization=0.0001087306057726201,\n",
      "                               learning_rate=0.13641609738253382, max_iter=512,\n",
      "                               min_samples_leaf=37, n_iter_no_change=18,\n",
      "                               random_state=101, validation_fraction=None,\n",
      "                               warm_start=True)}, 584: {'model_id': 584, 'rank': 30, 'cost': 0.5215757575757576, 'ensemble_weight': 0.02, 'data_preprocessor': <autosklearn.pipeline.components.data_preprocessing.DataPreprocessorChoice object at 0x1553f8c84e20>, 'balancing': Balancing(random_state=101), 'feature_preprocessor': <autosklearn.pipeline.components.feature_preprocessing.FeaturePreprocessorChoice object at 0x15540fa12b20>, 'classifier': <autosklearn.pipeline.components.classification.ClassifierChoice object at 0x15540fa12d60>, 'sklearn_classifier': HistGradientBoostingClassifier(early_stopping=True,\n",
      "                               l2_regularization=0.00019679217562657746,\n",
      "                               learning_rate=0.05716169827579778, max_iter=512,\n",
      "                               min_samples_leaf=37, n_iter_no_change=15,\n",
      "                               random_state=101, validation_fraction=None,\n",
      "                               warm_start=True)}, 585: {'model_id': 585, 'rank': 31, 'cost': 0.5221818181818182, 'ensemble_weight': 0.02, 'data_preprocessor': <autosklearn.pipeline.components.data_preprocessing.DataPreprocessorChoice object at 0x155494694d00>, 'balancing': Balancing(random_state=101), 'feature_preprocessor': <autosklearn.pipeline.components.feature_preprocessing.FeaturePreprocessorChoice object at 0x1554049aff40>, 'classifier': <autosklearn.pipeline.components.classification.ClassifierChoice object at 0x1554049841c0>, 'sklearn_classifier': HistGradientBoostingClassifier(early_stopping=True,\n",
      "                               l2_regularization=0.004661210435523521,\n",
      "                               learning_rate=0.11902416165985369, max_iter=512,\n",
      "                               max_leaf_nodes=28, min_samples_leaf=23,\n",
      "                               n_iter_no_change=13, random_state=101,\n",
      "                               validation_fraction=None, warm_start=True)}}\n"
     ]
    }
   ],
   "source": [
    "print(automl.show_models())"
   ]
  },
  {
   "cell_type": "code",
   "execution_count": 11,
   "id": "e375a46f",
   "metadata": {},
   "outputs": [
    {
     "data": {
      "text/plain": [
       "['autosklearnCifar10.joblib']"
      ]
     },
     "execution_count": 11,
     "metadata": {},
     "output_type": "execute_result"
    }
   ],
   "source": [
    "joblib.dump(automl, 'autosklearnCifar10.joblib')"
   ]
  },
  {
   "cell_type": "code",
   "execution_count": 12,
   "id": "4dc8679a",
   "metadata": {},
   "outputs": [],
   "source": [
    "testData = load_dataset(\n",
    "    'cifar10',\n",
    "    split='test',\n",
    "    cache_dir=\"/scratch/doa240/.cache/huggingface/datasets\",\n",
    "    streaming=True,\n",
    "    ignore_verifications=True  # set to True if seeing splits Error\n",
    ")"
   ]
  },
  {
   "cell_type": "code",
   "execution_count": 13,
   "id": "67f45fcf",
   "metadata": {},
   "outputs": [],
   "source": [
    "X_test = []\n",
    "y_test = []\n",
    "\n",
    "for data in testData:\n",
    "    img = data['img']\n",
    "    img = img.convert('L')\n",
    "    img = np.array(img)\n",
    "    X_test.append(img)\n",
    "    y_test.append(data['label'])"
   ]
  },
  {
   "cell_type": "code",
   "execution_count": 14,
   "id": "64a76125",
   "metadata": {},
   "outputs": [
    {
     "name": "stdout",
     "output_type": "stream",
     "text": [
      "(10000, 1024)\n"
     ]
    }
   ],
   "source": [
    "X_test = np.array(X_test)\n",
    "X_test = X_test.reshape(X_test.shape[0], -1)\n",
    "print(X_test.shape)"
   ]
  },
  {
   "cell_type": "code",
   "execution_count": 15,
   "id": "780441b5",
   "metadata": {},
   "outputs": [
    {
     "name": "stdout",
     "output_type": "stream",
     "text": [
      "(10000,)\n"
     ]
    }
   ],
   "source": [
    "y_test = np.array(y_test)\n",
    "print(y_test.shape)"
   ]
  },
  {
   "cell_type": "code",
   "execution_count": 16,
   "id": "5629d49f",
   "metadata": {},
   "outputs": [
    {
     "name": "stdout",
     "output_type": "stream",
     "text": [
      "Test Accuracy score 0.5233\n"
     ]
    }
   ],
   "source": [
    "# evaluate\n",
    "pred = automl.predict(X_test)\n",
    "test_acc = accuracy_score(y_test, pred)\n",
    "print(\"Test Accuracy score {0}\".format(test_acc))"
   ]
  },
  {
   "cell_type": "code",
   "execution_count": 17,
   "id": "35185513",
   "metadata": {},
   "outputs": [
    {
     "name": "stdout",
     "output_type": "stream",
     "text": [
      "Label: 0 0.544\n",
      "Label: 1 0.619\n",
      "Label: 2 0.399\n",
      "Label: 3 0.343\n",
      "Label: 4 0.457\n",
      "Label: 5 0.451\n",
      "Label: 6 0.607\n",
      "Label: 7 0.556\n",
      "Label: 8 0.659\n",
      "Label: 9 0.598\n"
     ]
    }
   ],
   "source": [
    "classes = [0] * 10\n",
    "classesCnt = [0] * 10\n",
    "\n",
    "for i in range(len(pred)):\n",
    "    if pred[i] == y_test[i]:\n",
    "        classes[pred[i]] += 1\n",
    "    classesCnt[y_test[i]] += 1\n",
    "    \n",
    "for i in range(10):\n",
    "    print(\"Label:\", i, classes[i]/classesCnt[i])"
   ]
  },
  {
   "cell_type": "code",
   "execution_count": 19,
   "id": "2e309a81",
   "metadata": {},
   "outputs": [
    {
     "name": "stdout",
     "output_type": "stream",
     "text": [
      "0.5233\n"
     ]
    }
   ],
   "source": [
    "classes = np.array(classes)\n",
    "print(np.sum(classes)/len(y_test))"
   ]
  },
  {
   "cell_type": "code",
   "execution_count": null,
   "id": "954e5e55",
   "metadata": {},
   "outputs": [],
   "source": []
  }
 ],
 "metadata": {
  "kernelspec": {
   "display_name": "PytorchKernel",
   "language": "python",
   "name": "pytorch"
  },
  "language_info": {
   "codemirror_mode": {
    "name": "ipython",
    "version": 3
   },
   "file_extension": ".py",
   "mimetype": "text/x-python",
   "name": "python",
   "nbconvert_exporter": "python",
   "pygments_lexer": "ipython3",
   "version": "3.9.12"
  }
 },
 "nbformat": 4,
 "nbformat_minor": 5
}
