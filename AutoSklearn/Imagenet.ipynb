{
 "cells": [
  {
   "cell_type": "code",
   "execution_count": 1,
   "id": "23d2a617",
   "metadata": {},
   "outputs": [],
   "source": [
    "from datasets import load_dataset\n",
    "import numpy as np\n",
    "from skimage.feature import hog"
   ]
  },
  {
   "cell_type": "code",
   "execution_count": 2,
   "id": "7523972e",
   "metadata": {},
   "outputs": [
    {
     "name": "stderr",
     "output_type": "stream",
     "text": [
      "Using custom data configuration Maysee--tiny-imagenet-35af7c46a941f08e\n"
     ]
    }
   ],
   "source": [
    "trainData = load_dataset(\n",
    "    'Maysee/tiny-imagenet',\n",
    "    split='train',\n",
    "    cache_dir=\"/scratch/doa240/.cache/huggingface/datasets\",\n",
    "    streaming=True,\n",
    "    ignore_verifications=True  # set to True if seeing splits Error\n",
    ")\n",
    "trainData = trainData.shuffle(seed=101)"
   ]
  },
  {
   "cell_type": "code",
   "execution_count": 5,
   "id": "747f6655",
   "metadata": {},
   "outputs": [],
   "source": [
    "X_train = []\n",
    "y_train = []\n",
    "\n",
    "i = 1\n",
    "for data in trainData:\n",
    "    img = data['image']\n",
    "    if img.mode != 'RGB':\n",
    "        img = img.convert(\"RGB\")\n",
    "        \n",
    "    img = np.array(img)\n",
    "\n",
    "    fd = hog(img, orientations=9, pixels_per_cell=(8, 8),cells_per_block=(2, 2), visualize=False,channel_axis=-1)\n",
    "    \n",
    "    if(len(X_train) > 0 and X_train[-1].shape != fd.shape):\n",
    "        break\n",
    "    \n",
    "    X_train.append(fd)\n",
    "    y_train.append(data['label'])\n",
    "    \n",
    "    if i % 5000 == 0:\n",
    "        print(i)"
   ]
  },
  {
   "cell_type": "code",
   "execution_count": 6,
   "id": "cbfac8a0",
   "metadata": {},
   "outputs": [
    {
     "name": "stdout",
     "output_type": "stream",
     "text": [
      "(100000, 1764)\n",
      "(100000, 1764)\n"
     ]
    }
   ],
   "source": [
    "x_train = np.array(X_train)\n",
    "print(x_train.shape)\n",
    "x_train = x_train.reshape(x_train.shape[0], -1)\n",
    "print(x_train.shape)"
   ]
  },
  {
   "cell_type": "code",
   "execution_count": 7,
   "id": "618c2afa",
   "metadata": {},
   "outputs": [
    {
     "name": "stdout",
     "output_type": "stream",
     "text": [
      "(100000,)\n"
     ]
    }
   ],
   "source": [
    "y_train = np.array(y_train)\n",
    "print(y_train.shape)"
   ]
  },
  {
   "cell_type": "code",
   "execution_count": 8,
   "id": "a7846bb3",
   "metadata": {},
   "outputs": [],
   "source": [
    "import autosklearn.classification\n",
    "import autosklearn.metrics\n",
    "from pprint import pprint\n",
    "import joblib\n",
    "from smac.tae import StatusType \n",
    "from sklearn.metrics import accuracy_score, f1_score "
   ]
  },
  {
   "cell_type": "code",
   "execution_count": 9,
   "id": "43c62d10",
   "metadata": {},
   "outputs": [
    {
     "name": "stdout",
     "output_type": "stream",
     "text": [
      "[WARNING] [2023-04-29 22:02:00,893:Client-EnsembleBuilder] No runs were available to build an ensemble from\n"
     ]
    },
    {
     "data": {
      "text/plain": [
       "AutoSklearnClassifier(ensemble_class=<class 'autosklearn.ensembles.ensemble_selection.EnsembleSelection'>,\n",
       "                      memory_limit=215040, n_jobs=-1,\n",
       "                      per_run_time_limit=14400.0, seed=101,\n",
       "                      time_left_for_this_task=86400)"
      ]
     },
     "execution_count": 9,
     "metadata": {},
     "output_type": "execute_result"
    }
   ],
   "source": [
    "automl = autosklearn.classification.AutoSklearnClassifier(\n",
    "    time_left_for_this_task=(3600*24), \n",
    "    per_run_time_limit = (3600*24)/6,\n",
    "    seed=101,\n",
    "    n_jobs=-1,\n",
    "    memory_limit= 3072*70\n",
    ")\n",
    "automl.fit(x_train, y_train)"
   ]
  },
  {
   "cell_type": "code",
   "execution_count": 10,
   "id": "c9f93f83",
   "metadata": {},
   "outputs": [
    {
     "name": "stdout",
     "output_type": "stream",
     "text": [
      "('auto-sklearn results:\\n'\n",
      " '  Dataset name: a1223143-e6b7-11ed-ad79-00110a6b78e8\\n'\n",
      " '  Metric: accuracy\\n'\n",
      " '  Best validation score: 0.112152\\n'\n",
      " '  Number of target algorithm runs: 262\\n'\n",
      " '  Number of successful target algorithm runs: 193\\n'\n",
      " '  Number of crashed target algorithm runs: 4\\n'\n",
      " '  Number of target algorithms that exceeded the time limit: 56\\n'\n",
      " '  Number of target algorithms that exceeded the memory limit: 9\\n')\n"
     ]
    }
   ],
   "source": [
    "pprint(automl.sprint_statistics())"
   ]
  },
  {
   "cell_type": "code",
   "execution_count": 11,
   "id": "1f96a127",
   "metadata": {},
   "outputs": [
    {
     "name": "stdout",
     "output_type": "stream",
     "text": [
      "          rank  ensemble_weight         type      cost      duration\n",
      "model_id                                                            \n",
      "61           1             0.02   libsvm_svc  0.887848  12856.559347\n",
      "204          2             0.02   libsvm_svc  0.888121  10053.184100\n",
      "192          3             0.02          lda  0.892848    641.001947\n",
      "211          4             0.04          lda  0.893182    699.185577\n",
      "201          5             0.02          lda  0.895879    642.002196\n",
      "200          6             0.04          lda  0.897788    256.905924\n",
      "189          7             0.22  extra_trees  0.897970   1072.704594\n",
      "196          8             0.02          lda  0.898091    633.940253\n",
      "183          9             0.02          lda  0.898394    270.526815\n",
      "245         10             0.04          lda  0.898939    274.251649\n",
      "186         11             0.02  gaussian_nb  0.898970    669.677803\n",
      "214         12             0.02          lda  0.899182    655.275259\n",
      "177         13             0.02          lda  0.899273    254.410710\n",
      "226         14             0.06          lda  0.899273    275.560827\n",
      "227         15             0.02          lda  0.899485    323.512164\n",
      "155         16             0.02          lda  0.902485    222.000729\n",
      "100         17             0.02          lda  0.905515    221.224036\n",
      "89          18             0.34  extra_trees  0.907485    869.900236\n",
      "127         19             0.02  gaussian_nb  0.907515    308.315611\n"
     ]
    }
   ],
   "source": [
    "print(automl.leaderboard())"
   ]
  },
  {
   "cell_type": "code",
   "execution_count": 12,
   "id": "3142a638",
   "metadata": {},
   "outputs": [
    {
     "name": "stdout",
     "output_type": "stream",
     "text": [
      "{61: {'model_id': 61, 'rank': 1, 'cost': 0.8878484848484849, 'ensemble_weight': 0.02, 'data_preprocessor': <autosklearn.pipeline.components.data_preprocessing.DataPreprocessorChoice object at 0x15544b3bf610>, 'balancing': Balancing(random_state=101), 'feature_preprocessor': <autosklearn.pipeline.components.feature_preprocessing.FeaturePreprocessorChoice object at 0x1554ae338460>, 'classifier': <autosklearn.pipeline.components.classification.ClassifierChoice object at 0x1554ae338850>, 'sklearn_classifier': SVC(C=968.2005893640705, cache_size=139142.08072916666,\n",
      "    gamma=0.00522738710460193, max_iter=-1.0, random_state=101, shrinking=False,\n",
      "    tol=0.0023639874792425806)}, 89: {'model_id': 89, 'rank': 2, 'cost': 0.9074848484848484, 'ensemble_weight': 0.34, 'data_preprocessor': <autosklearn.pipeline.components.data_preprocessing.DataPreprocessorChoice object at 0x1554ae762d90>, 'balancing': Balancing(random_state=101, strategy='weighting'), 'feature_preprocessor': <autosklearn.pipeline.components.feature_preprocessing.FeaturePreprocessorChoice object at 0x1554af7d4520>, 'classifier': <autosklearn.pipeline.components.classification.ClassifierChoice object at 0x1554af7d4af0>, 'sklearn_classifier': ExtraTreesClassifier(bootstrap=True, max_features=18, min_samples_leaf=4,\n",
      "                     min_samples_split=4, n_estimators=512, n_jobs=1,\n",
      "                     random_state=101, warm_start=True)}, 100: {'model_id': 100, 'rank': 3, 'cost': 0.9055151515151515, 'ensemble_weight': 0.02, 'data_preprocessor': <autosklearn.pipeline.components.data_preprocessing.DataPreprocessorChoice object at 0x1554ae504640>, 'balancing': Balancing(random_state=101, strategy='weighting'), 'feature_preprocessor': <autosklearn.pipeline.components.feature_preprocessing.FeaturePreprocessorChoice object at 0x1554182cddf0>, 'classifier': <autosklearn.pipeline.components.classification.ClassifierChoice object at 0x15544adc5640>, 'sklearn_classifier': LinearDiscriminantAnalysis(shrinkage='auto', solver='lsqr',\n",
      "                           tol=0.021809825313772978)}, 127: {'model_id': 127, 'rank': 4, 'cost': 0.9075151515151515, 'ensemble_weight': 0.02, 'data_preprocessor': <autosklearn.pipeline.components.data_preprocessing.DataPreprocessorChoice object at 0x1554afdae130>, 'balancing': Balancing(random_state=101), 'feature_preprocessor': <autosklearn.pipeline.components.feature_preprocessing.FeaturePreprocessorChoice object at 0x15541aed3fa0>, 'classifier': <autosklearn.pipeline.components.classification.ClassifierChoice object at 0x1553f27a7160>, 'sklearn_classifier': GaussianNB()}, 155: {'model_id': 155, 'rank': 5, 'cost': 0.9024848484848484, 'ensemble_weight': 0.02, 'data_preprocessor': <autosklearn.pipeline.components.data_preprocessing.DataPreprocessorChoice object at 0x1554ac09ddc0>, 'balancing': Balancing(random_state=101), 'feature_preprocessor': <autosklearn.pipeline.components.feature_preprocessing.FeaturePreprocessorChoice object at 0x1554199e5f10>, 'classifier': <autosklearn.pipeline.components.classification.ClassifierChoice object at 0x1554199e5460>, 'sklearn_classifier': LinearDiscriminantAnalysis(shrinkage='auto', solver='lsqr',\n",
      "                           tol=0.0004990224649822319)}, 177: {'model_id': 177, 'rank': 6, 'cost': 0.8992727272727272, 'ensemble_weight': 0.02, 'data_preprocessor': <autosklearn.pipeline.components.data_preprocessing.DataPreprocessorChoice object at 0x1554afdb8d60>, 'balancing': Balancing(random_state=101), 'feature_preprocessor': <autosklearn.pipeline.components.feature_preprocessing.FeaturePreprocessorChoice object at 0x15541bdca0a0>, 'classifier': <autosklearn.pipeline.components.classification.ClassifierChoice object at 0x15541569fc70>, 'sklearn_classifier': LinearDiscriminantAnalysis(tol=0.00016620851638869482)}, 183: {'model_id': 183, 'rank': 7, 'cost': 0.8983939393939394, 'ensemble_weight': 0.02, 'data_preprocessor': <autosklearn.pipeline.components.data_preprocessing.DataPreprocessorChoice object at 0x1554af83f520>, 'balancing': Balancing(random_state=101, strategy='weighting'), 'feature_preprocessor': <autosklearn.pipeline.components.feature_preprocessing.FeaturePreprocessorChoice object at 0x1554164055e0>, 'classifier': <autosklearn.pipeline.components.classification.ClassifierChoice object at 0x1554164052e0>, 'sklearn_classifier': LinearDiscriminantAnalysis(shrinkage='auto', solver='lsqr',\n",
      "                           tol=0.00012277140772904736)}, 186: {'model_id': 186, 'rank': 8, 'cost': 0.898969696969697, 'ensemble_weight': 0.02, 'data_preprocessor': <autosklearn.pipeline.components.data_preprocessing.DataPreprocessorChoice object at 0x1554aeb1ebe0>, 'balancing': Balancing(random_state=101), 'feature_preprocessor': <autosklearn.pipeline.components.feature_preprocessing.FeaturePreprocessorChoice object at 0x1553f29f29a0>, 'classifier': <autosklearn.pipeline.components.classification.ClassifierChoice object at 0x1553f29f2370>, 'sklearn_classifier': GaussianNB()}, 189: {'model_id': 189, 'rank': 9, 'cost': 0.897969696969697, 'ensemble_weight': 0.22, 'data_preprocessor': <autosklearn.pipeline.components.data_preprocessing.DataPreprocessorChoice object at 0x15541569f0a0>, 'balancing': Balancing(random_state=101), 'feature_preprocessor': <autosklearn.pipeline.components.feature_preprocessing.FeaturePreprocessorChoice object at 0x15541aba8430>, 'classifier': <autosklearn.pipeline.components.classification.ClassifierChoice object at 0x15541aba8dc0>, 'sklearn_classifier': ExtraTreesClassifier(max_features=13, min_samples_leaf=6, min_samples_split=7,\n",
      "                     n_estimators=512, n_jobs=1, random_state=101,\n",
      "                     warm_start=True)}, 192: {'model_id': 192, 'rank': 10, 'cost': 0.8928484848484849, 'ensemble_weight': 0.02, 'data_preprocessor': <autosklearn.pipeline.components.data_preprocessing.DataPreprocessorChoice object at 0x155416405ac0>, 'balancing': Balancing(random_state=101), 'feature_preprocessor': <autosklearn.pipeline.components.feature_preprocessing.FeaturePreprocessorChoice object at 0x1553f7b120a0>, 'classifier': <autosklearn.pipeline.components.classification.ClassifierChoice object at 0x1553f7b120d0>, 'sklearn_classifier': LinearDiscriminantAnalysis(shrinkage=0.41184788822339213, solver='lsqr',\n",
      "                           tol=7.475097622002685e-05)}, 196: {'model_id': 196, 'rank': 11, 'cost': 0.898090909090909, 'ensemble_weight': 0.02, 'data_preprocessor': <autosklearn.pipeline.components.data_preprocessing.DataPreprocessorChoice object at 0x1553f29f2a30>, 'balancing': Balancing(random_state=101), 'feature_preprocessor': <autosklearn.pipeline.components.feature_preprocessing.FeaturePreprocessorChoice object at 0x1553f29dfc40>, 'classifier': <autosklearn.pipeline.components.classification.ClassifierChoice object at 0x1553f29df400>, 'sklearn_classifier': LinearDiscriminantAnalysis(tol=5.524652661859725e-05)}, 200: {'model_id': 200, 'rank': 12, 'cost': 0.8977878787878788, 'ensemble_weight': 0.04, 'data_preprocessor': <autosklearn.pipeline.components.data_preprocessing.DataPreprocessorChoice object at 0x155417dcddf0>, 'balancing': Balancing(random_state=101), 'feature_preprocessor': <autosklearn.pipeline.components.feature_preprocessing.FeaturePreprocessorChoice object at 0x1554af015970>, 'classifier': <autosklearn.pipeline.components.classification.ClassifierChoice object at 0x1554af015070>, 'sklearn_classifier': LinearDiscriminantAnalysis(tol=0.0010770587138906463)}, 201: {'model_id': 201, 'rank': 13, 'cost': 0.8958787878787879, 'ensemble_weight': 0.02, 'data_preprocessor': <autosklearn.pipeline.components.data_preprocessing.DataPreprocessorChoice object at 0x1553f7b12130>, 'balancing': Balancing(random_state=101), 'feature_preprocessor': <autosklearn.pipeline.components.feature_preprocessing.FeaturePreprocessorChoice object at 0x155449540dc0>, 'classifier': <autosklearn.pipeline.components.classification.ClassifierChoice object at 0x155449540f70>, 'sklearn_classifier': LinearDiscriminantAnalysis(shrinkage=0.5295314481517491, solver='lsqr',\n",
      "                           tol=0.00011436857760337736)}, 204: {'model_id': 204, 'rank': 14, 'cost': 0.8881212121212121, 'ensemble_weight': 0.02, 'data_preprocessor': <autosklearn.pipeline.components.data_preprocessing.DataPreprocessorChoice object at 0x15544970f8b0>, 'balancing': Balancing(random_state=101, strategy='weighting'), 'feature_preprocessor': <autosklearn.pipeline.components.feature_preprocessing.FeaturePreprocessorChoice object at 0x155419e6ebe0>, 'classifier': <autosklearn.pipeline.components.classification.ClassifierChoice object at 0x15541af56b50>, 'sklearn_classifier': SVC(C=31.31538992050538, cache_size=139289.3359375, class_weight='balanced',\n",
      "    coef0=-0.930713829080482, gamma=0.517137665486403, kernel='sigmoid',\n",
      "    max_iter=-1.0, random_state=101, shrinking=False,\n",
      "    tol=0.00041721593005218487)}, 211: {'model_id': 211, 'rank': 15, 'cost': 0.8931818181818182, 'ensemble_weight': 0.04, 'data_preprocessor': <autosklearn.pipeline.components.data_preprocessing.DataPreprocessorChoice object at 0x155449dd26d0>, 'balancing': Balancing(random_state=101, strategy='weighting'), 'feature_preprocessor': <autosklearn.pipeline.components.feature_preprocessing.FeaturePreprocessorChoice object at 0x1554ad8bc130>, 'classifier': <autosklearn.pipeline.components.classification.ClassifierChoice object at 0x1554ad8bc9a0>, 'sklearn_classifier': LinearDiscriminantAnalysis(shrinkage=0.4372659040896845, solver='lsqr',\n",
      "                           tol=0.00018750357811056392)}, 214: {'model_id': 214, 'rank': 16, 'cost': 0.8991818181818182, 'ensemble_weight': 0.02, 'data_preprocessor': <autosklearn.pipeline.components.data_preprocessing.DataPreprocessorChoice object at 0x15550232ae20>, 'balancing': Balancing(random_state=101), 'feature_preprocessor': <autosklearn.pipeline.components.feature_preprocessing.FeaturePreprocessorChoice object at 0x15541a05e130>, 'classifier': <autosklearn.pipeline.components.classification.ClassifierChoice object at 0x15541a05ef10>, 'sklearn_classifier': LinearDiscriminantAnalysis(tol=8.373386126362856e-05)}, 226: {'model_id': 226, 'rank': 17, 'cost': 0.8992727272727272, 'ensemble_weight': 0.06, 'data_preprocessor': <autosklearn.pipeline.components.data_preprocessing.DataPreprocessorChoice object at 0x15541af561c0>, 'balancing': Balancing(random_state=101, strategy='weighting'), 'feature_preprocessor': <autosklearn.pipeline.components.feature_preprocessing.FeaturePreprocessorChoice object at 0x15544b4df610>, 'classifier': <autosklearn.pipeline.components.classification.ClassifierChoice object at 0x15544b4dfc70>, 'sklearn_classifier': LinearDiscriminantAnalysis(shrinkage=0.40899252966925814, solver='lsqr',\n",
      "                           tol=0.0002414129857911757)}, 227: {'model_id': 227, 'rank': 18, 'cost': 0.8994848484848484, 'ensemble_weight': 0.02, 'data_preprocessor': <autosklearn.pipeline.components.data_preprocessing.DataPreprocessorChoice object at 0x1554ad8bcc10>, 'balancing': Balancing(random_state=101, strategy='weighting'), 'feature_preprocessor': <autosklearn.pipeline.components.feature_preprocessing.FeaturePreprocessorChoice object at 0x155449175a60>, 'classifier': <autosklearn.pipeline.components.classification.ClassifierChoice object at 0x1553f2579280>, 'sklearn_classifier': LinearDiscriminantAnalysis(shrinkage=0.425491135322214, solver='lsqr',\n",
      "                           tol=7.429693512738111e-05)}, 245: {'model_id': 245, 'rank': 19, 'cost': 0.8989393939393939, 'ensemble_weight': 0.04, 'data_preprocessor': <autosklearn.pipeline.components.data_preprocessing.DataPreprocessorChoice object at 0x15541a05ea90>, 'balancing': Balancing(random_state=101, strategy='weighting'), 'feature_preprocessor': <autosklearn.pipeline.components.feature_preprocessing.FeaturePreprocessorChoice object at 0x15541b15ad90>, 'classifier': <autosklearn.pipeline.components.classification.ClassifierChoice object at 0x15541b15ab20>, 'sklearn_classifier': LinearDiscriminantAnalysis(shrinkage=0.23124357442258323, solver='lsqr',\n",
      "                           tol=0.000274864666937512)}}\n"
     ]
    }
   ],
   "source": [
    "print(automl.show_models())"
   ]
  },
  {
   "cell_type": "code",
   "execution_count": 13,
   "id": "13abadc7",
   "metadata": {},
   "outputs": [
    {
     "data": {
      "text/plain": [
       "['imagenetHOG.joblib']"
      ]
     },
     "execution_count": 13,
     "metadata": {},
     "output_type": "execute_result"
    }
   ],
   "source": [
    "joblib.dump(automl, \"imagenetHOG.joblib\")"
   ]
  },
  {
   "cell_type": "code",
   "execution_count": 14,
   "id": "32184e1a",
   "metadata": {},
   "outputs": [
    {
     "name": "stdout",
     "output_type": "stream",
     "text": [
      "[WARNING] [2023-04-30 22:14:48,348:datasets.builder] Using custom data configuration Maysee--tiny-imagenet-35af7c46a941f08e\n"
     ]
    }
   ],
   "source": [
    "testData = load_dataset(\n",
    "    'Maysee/tiny-imagenet',\n",
    "    split='valid',\n",
    "    cache_dir=\"/scratch/doa240/.cache/huggingface/datasets\",\n",
    "    streaming=True,\n",
    "    ignore_verifications=True  # set to True if seeing splits Error\n",
    ")"
   ]
  },
  {
   "cell_type": "code",
   "execution_count": 15,
   "id": "e0971db2",
   "metadata": {},
   "outputs": [],
   "source": [
    "X_test = []\n",
    "y_test = []\n",
    "\n",
    "i = 1\n",
    "for data in testData:\n",
    "    img = data['image']\n",
    "    if img.mode != 'RGB':\n",
    "        img = img.convert(\"RGB\")\n",
    "        \n",
    "    img = np.array(img)\n",
    "\n",
    "    fd = hog(img, orientations=9, pixels_per_cell=(8, 8),cells_per_block=(2, 2), visualize=False,channel_axis=-1)\n",
    "    \n",
    "    if(len(X_test) > 0 and X_test[-1].shape != fd.shape):\n",
    "        break\n",
    "    \n",
    "    X_test.append(fd)\n",
    "    y_test.append(data['label'])\n",
    "    \n",
    "    if i % 5000 == 0:\n",
    "        print(i)"
   ]
  },
  {
   "cell_type": "code",
   "execution_count": 16,
   "id": "951ff00b",
   "metadata": {},
   "outputs": [
    {
     "name": "stdout",
     "output_type": "stream",
     "text": [
      "(10000, 1764)\n",
      "(10000, 1764)\n"
     ]
    }
   ],
   "source": [
    "x_test = np.array(X_test)\n",
    "print(x_test.shape)\n",
    "x_test = x_test.reshape(x_test.shape[0], -1)\n",
    "print(x_test.shape)"
   ]
  },
  {
   "cell_type": "code",
   "execution_count": 17,
   "id": "2703f4b9",
   "metadata": {},
   "outputs": [
    {
     "name": "stdout",
     "output_type": "stream",
     "text": [
      "(10000,)\n"
     ]
    }
   ],
   "source": [
    "y_test = np.array(y_test)\n",
    "print(y_test.shape)"
   ]
  },
  {
   "cell_type": "code",
   "execution_count": 18,
   "id": "c49c7ac0",
   "metadata": {},
   "outputs": [
    {
     "name": "stdout",
     "output_type": "stream",
     "text": [
      "Test Accuracy score 0.1271\n"
     ]
    }
   ],
   "source": [
    "# evaluate\n",
    "pred = automl.predict(x_test)\n",
    "test_acc = accuracy_score(y_test, pred)\n",
    "print(\"Test Accuracy score {0}\".format(test_acc))"
   ]
  },
  {
   "cell_type": "code",
   "execution_count": null,
   "id": "78c31eda",
   "metadata": {},
   "outputs": [],
   "source": []
  }
 ],
 "metadata": {
  "kernelspec": {
   "display_name": "PytorchKernel",
   "language": "python",
   "name": "pytorch"
  },
  "language_info": {
   "codemirror_mode": {
    "name": "ipython",
    "version": 3
   },
   "file_extension": ".py",
   "mimetype": "text/x-python",
   "name": "python",
   "nbconvert_exporter": "python",
   "pygments_lexer": "ipython3",
   "version": "3.9.12"
  }
 },
 "nbformat": 4,
 "nbformat_minor": 5
}
