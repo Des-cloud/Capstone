{
 "cells": [
  {
   "cell_type": "code",
   "execution_count": 1,
   "id": "cbe3ca25",
   "metadata": {},
   "outputs": [],
   "source": [
    "from datasets import load_dataset\n",
    "import numpy as np"
   ]
  },
  {
   "cell_type": "code",
   "execution_count": 2,
   "id": "15568264",
   "metadata": {},
   "outputs": [],
   "source": [
    "trainData = load_dataset(\n",
    "    'cifar100',\n",
    "    split='train',\n",
    "    cache_dir=\"/scratch/doa240/.cache/huggingface/datasets\",\n",
    "    streaming=True,\n",
    "    ignore_verifications=True  # set to True if seeing splits Error\n",
    ")\n"
   ]
  },
  {
   "cell_type": "code",
   "execution_count": 3,
   "id": "d3ff1249",
   "metadata": {},
   "outputs": [],
   "source": [
    "X_train = []\n",
    "y_train = []\n",
    "\n",
    "for data in trainData:\n",
    "    img = data['img']\n",
    "    img = img.convert('L')\n",
    "    img = np.array(img)\n",
    "    X_train.append(img)\n",
    "    y_train.append(data['fine_label'])"
   ]
  },
  {
   "cell_type": "code",
   "execution_count": 4,
   "id": "f2d8fa15",
   "metadata": {},
   "outputs": [
    {
     "name": "stdout",
     "output_type": "stream",
     "text": [
      "(50000, 1024)\n"
     ]
    }
   ],
   "source": [
    "X_train = np.array(X_train)\n",
    "X_train = X_train.reshape(X_train.shape[0], -1)\n",
    "print(X_train.shape)"
   ]
  },
  {
   "cell_type": "code",
   "execution_count": 5,
   "id": "58ecfdf6",
   "metadata": {},
   "outputs": [
    {
     "name": "stdout",
     "output_type": "stream",
     "text": [
      "(50000,)\n"
     ]
    }
   ],
   "source": [
    "y_train = np.array(y_train)\n",
    "print(y_train.shape)"
   ]
  },
  {
   "cell_type": "code",
   "execution_count": 6,
   "id": "a1f012e2",
   "metadata": {},
   "outputs": [],
   "source": [
    "import autosklearn.classification\n",
    "import autosklearn.metrics\n",
    "from pprint import pprint\n",
    "import joblib\n",
    "from smac.tae import StatusType \n",
    "from sklearn.metrics import accuracy_score, f1_score "
   ]
  },
  {
   "cell_type": "code",
   "execution_count": 7,
   "id": "e588f6b2",
   "metadata": {
    "scrolled": true
   },
   "outputs": [
    {
     "name": "stderr",
     "output_type": "stream",
     "text": [
      "/scratch/doa240/conda-envs/pytorch/lib/python3.9/site-packages/distributed/node.py:182: UserWarning: Port 8787 is already in use.\n",
      "Perhaps you already have a cluster running?\n",
      "Hosting the HTTP server on port 45153 instead\n",
      "  warnings.warn(\n"
     ]
    },
    {
     "name": "stdout",
     "output_type": "stream",
     "text": [
      "[WARNING] [2023-03-25 23:17:18,865:Client-EnsembleBuilder] No runs were available to build an ensemble from\n",
      "[WARNING] [2023-03-25 23:17:34,299:Client-EnsembleBuilder] No runs were available to build an ensemble from\n",
      "[WARNING] [2023-03-25 23:17:34,592:Client-EnsembleBuilder] No runs were available to build an ensemble from\n",
      "[WARNING] [2023-03-25 23:17:34,915:Client-EnsembleBuilder] No runs were available to build an ensemble from\n",
      "[WARNING] [2023-03-25 23:17:44,012:Client-EnsembleBuilder] No runs were available to build an ensemble from\n",
      "[WARNING] [2023-03-25 23:17:57,636:Client-EnsembleBuilder] No runs were available to build an ensemble from\n",
      "[WARNING] [2023-03-25 23:18:07,255:Client-EnsembleBuilder] No runs were available to build an ensemble from\n",
      "[WARNING] [2023-03-25 23:18:07,666:Client-EnsembleBuilder] No runs were available to build an ensemble from\n",
      "[WARNING] [2023-03-25 23:18:18,919:Client-EnsembleBuilder] No runs were available to build an ensemble from\n",
      "[WARNING] [2023-03-25 23:18:33,269:Client-EnsembleBuilder] No runs were available to build an ensemble from\n",
      "[WARNING] [2023-03-25 23:18:43,780:Client-EnsembleBuilder] No runs were available to build an ensemble from\n",
      "[WARNING] [2023-03-25 23:19:02,946:Client-EnsembleBuilder] No models better than random - using Dummy losses!\n",
      "\tModels besides current dummy model: 0\n",
      "\tDummy models: 1\n",
      "[WARNING] [2023-03-25 23:19:10,841:Client-EnsembleBuilder] No models better than random - using Dummy losses!\n",
      "\tModels besides current dummy model: 0\n",
      "\tDummy models: 1\n",
      "[WARNING] [2023-03-25 23:19:39,395:Client-EnsembleBuilder] No models better than random - using Dummy losses!\n",
      "\tModels besides current dummy model: 0\n",
      "\tDummy models: 1\n",
      "[WARNING] [2023-03-25 23:20:08,787:Client-EnsembleBuilder] No models better than random - using Dummy losses!\n",
      "\tModels besides current dummy model: 0\n",
      "\tDummy models: 1\n"
     ]
    },
    {
     "name": "stderr",
     "output_type": "stream",
     "text": [
      "init_gesdd failed init\n",
      "init_gesdd failed init\n"
     ]
    },
    {
     "data": {
      "text/plain": [
       "AutoSklearnClassifier(ensemble_class=<class 'autosklearn.ensembles.ensemble_selection.EnsembleSelection'>,\n",
       "                      n_jobs=-1, per_run_time_limit=7200.0, seed=101,\n",
       "                      time_left_for_this_task=43200)"
      ]
     },
     "execution_count": 7,
     "metadata": {},
     "output_type": "execute_result"
    }
   ],
   "source": [
    "automl = autosklearn.classification.AutoSklearnClassifier(\n",
    "    time_left_for_this_task=3600*12, \n",
    "    per_run_time_limit = (3600*12)/6,\n",
    "    seed=101,\n",
    "    n_jobs=-1\n",
    ")\n",
    "automl.fit(X_train, y_train)"
   ]
  },
  {
   "cell_type": "code",
   "execution_count": 8,
   "id": "2f76a9bf",
   "metadata": {},
   "outputs": [
    {
     "name": "stdout",
     "output_type": "stream",
     "text": [
      "('auto-sklearn results:\\n'\n",
      " '  Dataset name: a0237ab2-cb41-11ed-8e64-00110a6b78e8\\n'\n",
      " '  Metric: accuracy\\n'\n",
      " '  Best validation score: 0.184061\\n'\n",
      " '  Number of target algorithm runs: 2655\\n'\n",
      " '  Number of successful target algorithm runs: 1433\\n'\n",
      " '  Number of crashed target algorithm runs: 176\\n'\n",
      " '  Number of target algorithms that exceeded the time limit: 64\\n'\n",
      " '  Number of target algorithms that exceeded the memory limit: 982\\n')\n"
     ]
    }
   ],
   "source": [
    "pprint(automl.sprint_statistics())"
   ]
  },
  {
   "cell_type": "code",
   "execution_count": 9,
   "id": "5fa59fc4",
   "metadata": {},
   "outputs": [
    {
     "name": "stdout",
     "output_type": "stream",
     "text": [
      "          rank  ensemble_weight type      cost    duration\n",
      "model_id                                                  \n",
      "2350         1             0.06  qda  0.815939  320.635545\n",
      "2443         2             0.02  qda  0.816182  207.804317\n",
      "1487         3             0.02  qda  0.816242  328.589979\n",
      "1682         4             0.04  qda  0.816242  310.482866\n",
      "936          6             0.02  qda  0.816303  452.665245\n",
      "2544         5             0.06  qda  0.816303  335.336506\n",
      "851          9             0.02  qda  0.816364  802.501897\n",
      "1462         7             0.02  qda  0.816364  323.737219\n",
      "1498         8             0.04  qda  0.816364  316.038868\n",
      "1153        10             0.02  qda  0.816424  495.375317\n",
      "1297        15             0.02  qda  0.816424  311.899173\n",
      "1522        13             0.06  qda  0.816424  314.705023\n",
      "1537        14             0.04  qda  0.816424  319.264583\n",
      "1538        12             0.06  qda  0.816424  313.532084\n",
      "2386        11             0.02  qda  0.816424  198.863841\n",
      "1231        16             0.06  qda  0.816485  203.312114\n",
      "2102        17             0.02  qda  0.816485  317.866001\n",
      "2306        18             0.06  qda  0.816485  318.044024\n",
      "2345        19             0.08  qda  0.816485  230.344777\n",
      "1191        20             0.08  qda  0.816545  331.565622\n",
      "695         22             0.02  qda  0.816606  271.800596\n",
      "1416        21             0.04  qda  0.816606  200.006974\n",
      "1485        24             0.02  qda  0.816606  201.065959\n",
      "2254        23             0.02  qda  0.816606  212.569160\n",
      "653         26             0.02  qda  0.816667  285.865171\n",
      "661         25             0.06  qda  0.816667  461.020602\n"
     ]
    }
   ],
   "source": [
    "print(automl.leaderboard())"
   ]
  },
  {
   "cell_type": "code",
   "execution_count": 10,
   "id": "05ad3fde",
   "metadata": {},
   "outputs": [
    {
     "data": {
      "text/plain": [
       "{653: {'model_id': 653,\n",
       "  'rank': 1,\n",
       "  'cost': 0.8166666666666667,\n",
       "  'ensemble_weight': 0.02,\n",
       "  'data_preprocessor': <autosklearn.pipeline.components.data_preprocessing.DataPreprocessorChoice at 0x15540fdb6190>,\n",
       "  'balancing': Balancing(random_state=101),\n",
       "  'feature_preprocessor': <autosklearn.pipeline.components.feature_preprocessing.FeaturePreprocessorChoice at 0x1554900bf850>,\n",
       "  'classifier': <autosklearn.pipeline.components.classification.ClassifierChoice at 0x1554900bfe50>,\n",
       "  'sklearn_classifier': QuadraticDiscriminantAnalysis(reg_param=0.6679363870686031)},\n",
       " 661: {'model_id': 661,\n",
       "  'rank': 2,\n",
       "  'cost': 0.8166666666666667,\n",
       "  'ensemble_weight': 0.06,\n",
       "  'data_preprocessor': <autosklearn.pipeline.components.data_preprocessing.DataPreprocessorChoice at 0x155525572b80>,\n",
       "  'balancing': Balancing(random_state=101),\n",
       "  'feature_preprocessor': <autosklearn.pipeline.components.feature_preprocessing.FeaturePreprocessorChoice at 0x15541695f520>,\n",
       "  'classifier': <autosklearn.pipeline.components.classification.ClassifierChoice at 0x15541695fb80>,\n",
       "  'sklearn_classifier': QuadraticDiscriminantAnalysis(reg_param=0.6741154068929999)},\n",
       " 695: {'model_id': 695,\n",
       "  'rank': 3,\n",
       "  'cost': 0.8166060606060606,\n",
       "  'ensemble_weight': 0.02,\n",
       "  'data_preprocessor': <autosklearn.pipeline.components.data_preprocessing.DataPreprocessorChoice at 0x1555254311f0>,\n",
       "  'balancing': Balancing(random_state=101),\n",
       "  'feature_preprocessor': <autosklearn.pipeline.components.feature_preprocessing.FeaturePreprocessorChoice at 0x155491ff1d30>,\n",
       "  'classifier': <autosklearn.pipeline.components.classification.ClassifierChoice at 0x155491ff1ee0>,\n",
       "  'sklearn_classifier': QuadraticDiscriminantAnalysis(reg_param=0.6892345496984738)},\n",
       " 851: {'model_id': 851,\n",
       "  'rank': 4,\n",
       "  'cost': 0.8163636363636364,\n",
       "  'ensemble_weight': 0.02,\n",
       "  'data_preprocessor': <autosklearn.pipeline.components.data_preprocessing.DataPreprocessorChoice at 0x1554ccab6880>,\n",
       "  'balancing': Balancing(random_state=101),\n",
       "  'feature_preprocessor': <autosklearn.pipeline.components.feature_preprocessing.FeaturePreprocessorChoice at 0x1554163b8d30>,\n",
       "  'classifier': <autosklearn.pipeline.components.classification.ClassifierChoice at 0x1554163b85b0>,\n",
       "  'sklearn_classifier': QuadraticDiscriminantAnalysis(reg_param=0.6788699408534542)},\n",
       " 936: {'model_id': 936,\n",
       "  'rank': 5,\n",
       "  'cost': 0.8163030303030303,\n",
       "  'ensemble_weight': 0.02,\n",
       "  'data_preprocessor': <autosklearn.pipeline.components.data_preprocessing.DataPreprocessorChoice at 0x1555254a37c0>,\n",
       "  'balancing': Balancing(random_state=101),\n",
       "  'feature_preprocessor': <autosklearn.pipeline.components.feature_preprocessing.FeaturePreprocessorChoice at 0x1553f4550e50>,\n",
       "  'classifier': <autosklearn.pipeline.components.classification.ClassifierChoice at 0x1553f4550070>,\n",
       "  'sklearn_classifier': QuadraticDiscriminantAnalysis(reg_param=0.6717569363781878)},\n",
       " 1153: {'model_id': 1153,\n",
       "  'rank': 6,\n",
       "  'cost': 0.8164242424242424,\n",
       "  'ensemble_weight': 0.02,\n",
       "  'data_preprocessor': <autosklearn.pipeline.components.data_preprocessing.DataPreprocessorChoice at 0x155409bb50d0>,\n",
       "  'balancing': Balancing(random_state=101),\n",
       "  'feature_preprocessor': <autosklearn.pipeline.components.feature_preprocessing.FeaturePreprocessorChoice at 0x1554cc9fa610>,\n",
       "  'classifier': <autosklearn.pipeline.components.classification.ClassifierChoice at 0x1554cc9faf10>,\n",
       "  'sklearn_classifier': QuadraticDiscriminantAnalysis(reg_param=0.6743174307142992)},\n",
       " 1191: {'model_id': 1191,\n",
       "  'rank': 7,\n",
       "  'cost': 0.8165454545454546,\n",
       "  'ensemble_weight': 0.08,\n",
       "  'data_preprocessor': <autosklearn.pipeline.components.data_preprocessing.DataPreprocessorChoice at 0x155525418c70>,\n",
       "  'balancing': Balancing(random_state=101),\n",
       "  'feature_preprocessor': <autosklearn.pipeline.components.feature_preprocessing.FeaturePreprocessorChoice at 0x1555253d76d0>,\n",
       "  'classifier': <autosklearn.pipeline.components.classification.ClassifierChoice at 0x1555253d7d60>,\n",
       "  'sklearn_classifier': QuadraticDiscriminantAnalysis(reg_param=0.690082384710831)},\n",
       " 1231: {'model_id': 1231,\n",
       "  'rank': 8,\n",
       "  'cost': 0.8164848484848485,\n",
       "  'ensemble_weight': 0.06,\n",
       "  'data_preprocessor': <autosklearn.pipeline.components.data_preprocessing.DataPreprocessorChoice at 0x1553aa6d03d0>,\n",
       "  'balancing': Balancing(random_state=101, strategy='weighting'),\n",
       "  'feature_preprocessor': <autosklearn.pipeline.components.feature_preprocessing.FeaturePreprocessorChoice at 0x1554cc6b3df0>,\n",
       "  'classifier': <autosklearn.pipeline.components.classification.ClassifierChoice at 0x1554cc6b3a90>,\n",
       "  'sklearn_classifier': QuadraticDiscriminantAnalysis(reg_param=0.6976999219094379)},\n",
       " 1297: {'model_id': 1297,\n",
       "  'rank': 9,\n",
       "  'cost': 0.8164242424242424,\n",
       "  'ensemble_weight': 0.02,\n",
       "  'data_preprocessor': <autosklearn.pipeline.components.data_preprocessing.DataPreprocessorChoice at 0x155490560520>,\n",
       "  'balancing': Balancing(random_state=101),\n",
       "  'feature_preprocessor': <autosklearn.pipeline.components.feature_preprocessing.FeaturePreprocessorChoice at 0x155524d9fd00>,\n",
       "  'classifier': <autosklearn.pipeline.components.classification.ClassifierChoice at 0x155524d9fd90>,\n",
       "  'sklearn_classifier': QuadraticDiscriminantAnalysis(reg_param=0.6759057573697258)},\n",
       " 1416: {'model_id': 1416,\n",
       "  'rank': 10,\n",
       "  'cost': 0.8166060606060606,\n",
       "  'ensemble_weight': 0.04,\n",
       "  'data_preprocessor': <autosklearn.pipeline.components.data_preprocessing.DataPreprocessorChoice at 0x1553fdfe4fa0>,\n",
       "  'balancing': Balancing(random_state=101),\n",
       "  'feature_preprocessor': <autosklearn.pipeline.components.feature_preprocessing.FeaturePreprocessorChoice at 0x155488f03c10>,\n",
       "  'classifier': <autosklearn.pipeline.components.classification.ClassifierChoice at 0x155488f03940>,\n",
       "  'sklearn_classifier': QuadraticDiscriminantAnalysis(reg_param=0.6781303790553284)},\n",
       " 1462: {'model_id': 1462,\n",
       "  'rank': 11,\n",
       "  'cost': 0.8163636363636364,\n",
       "  'ensemble_weight': 0.02,\n",
       "  'data_preprocessor': <autosklearn.pipeline.components.data_preprocessing.DataPreprocessorChoice at 0x155491fe6490>,\n",
       "  'balancing': Balancing(random_state=101, strategy='weighting'),\n",
       "  'feature_preprocessor': <autosklearn.pipeline.components.feature_preprocessing.FeaturePreprocessorChoice at 0x1553b9a94f70>,\n",
       "  'classifier': <autosklearn.pipeline.components.classification.ClassifierChoice at 0x1553b9a94b50>,\n",
       "  'sklearn_classifier': QuadraticDiscriminantAnalysis(reg_param=0.6725820469232657)},\n",
       " 1485: {'model_id': 1485,\n",
       "  'rank': 12,\n",
       "  'cost': 0.8166060606060606,\n",
       "  'ensemble_weight': 0.02,\n",
       "  'data_preprocessor': <autosklearn.pipeline.components.data_preprocessing.DataPreprocessorChoice at 0x155417432c70>,\n",
       "  'balancing': Balancing(random_state=101),\n",
       "  'feature_preprocessor': <autosklearn.pipeline.components.feature_preprocessing.FeaturePreprocessorChoice at 0x155417e21b80>,\n",
       "  'classifier': <autosklearn.pipeline.components.classification.ClassifierChoice at 0x15541621d400>,\n",
       "  'sklearn_classifier': QuadraticDiscriminantAnalysis(reg_param=0.6782339340608925)},\n",
       " 1487: {'model_id': 1487,\n",
       "  'rank': 13,\n",
       "  'cost': 0.8162424242424242,\n",
       "  'ensemble_weight': 0.02,\n",
       "  'data_preprocessor': <autosklearn.pipeline.components.data_preprocessing.DataPreprocessorChoice at 0x155490411f10>,\n",
       "  'balancing': Balancing(random_state=101, strategy='weighting'),\n",
       "  'feature_preprocessor': <autosklearn.pipeline.components.feature_preprocessing.FeaturePreprocessorChoice at 0x1554ccb772e0>,\n",
       "  'classifier': <autosklearn.pipeline.components.classification.ClassifierChoice at 0x1554ccb779a0>,\n",
       "  'sklearn_classifier': QuadraticDiscriminantAnalysis(reg_param=0.690082384710831)},\n",
       " 1498: {'model_id': 1498,\n",
       "  'rank': 14,\n",
       "  'cost': 0.8163636363636364,\n",
       "  'ensemble_weight': 0.04,\n",
       "  'data_preprocessor': <autosklearn.pipeline.components.data_preprocessing.DataPreprocessorChoice at 0x155415f083a0>,\n",
       "  'balancing': Balancing(random_state=101),\n",
       "  'feature_preprocessor': <autosklearn.pipeline.components.feature_preprocessing.FeaturePreprocessorChoice at 0x1554cfadd370>,\n",
       "  'classifier': <autosklearn.pipeline.components.classification.ClassifierChoice at 0x1554cca9f8b0>,\n",
       "  'sklearn_classifier': QuadraticDiscriminantAnalysis(reg_param=0.6788345812114664)},\n",
       " 1522: {'model_id': 1522,\n",
       "  'rank': 15,\n",
       "  'cost': 0.8164242424242424,\n",
       "  'ensemble_weight': 0.06,\n",
       "  'data_preprocessor': <autosklearn.pipeline.components.data_preprocessing.DataPreprocessorChoice at 0x15541621d550>,\n",
       "  'balancing': Balancing(random_state=101, strategy='weighting'),\n",
       "  'feature_preprocessor': <autosklearn.pipeline.components.feature_preprocessing.FeaturePreprocessorChoice at 0x1554903b64f0>,\n",
       "  'classifier': <autosklearn.pipeline.components.classification.ClassifierChoice at 0x1554903b64c0>,\n",
       "  'sklearn_classifier': QuadraticDiscriminantAnalysis(reg_param=0.6915510164686784)},\n",
       " 1537: {'model_id': 1537,\n",
       "  'rank': 16,\n",
       "  'cost': 0.8164242424242424,\n",
       "  'ensemble_weight': 0.04,\n",
       "  'data_preprocessor': <autosklearn.pipeline.components.data_preprocessing.DataPreprocessorChoice at 0x1554cc8db0a0>,\n",
       "  'balancing': Balancing(random_state=101, strategy='weighting'),\n",
       "  'feature_preprocessor': <autosklearn.pipeline.components.feature_preprocessing.FeaturePreprocessorChoice at 0x1555252cbac0>,\n",
       "  'classifier': <autosklearn.pipeline.components.classification.ClassifierChoice at 0x1555252cb790>,\n",
       "  'sklearn_classifier': QuadraticDiscriminantAnalysis(reg_param=0.6854522219770053)},\n",
       " 1538: {'model_id': 1538,\n",
       "  'rank': 17,\n",
       "  'cost': 0.8164242424242424,\n",
       "  'ensemble_weight': 0.06,\n",
       "  'data_preprocessor': <autosklearn.pipeline.components.data_preprocessing.DataPreprocessorChoice at 0x155417579eb0>,\n",
       "  'balancing': Balancing(random_state=101, strategy='weighting'),\n",
       "  'feature_preprocessor': <autosklearn.pipeline.components.feature_preprocessing.FeaturePreprocessorChoice at 0x1554cc7d48b0>,\n",
       "  'classifier': <autosklearn.pipeline.components.classification.ClassifierChoice at 0x1554d6fabd60>,\n",
       "  'sklearn_classifier': QuadraticDiscriminantAnalysis(reg_param=0.674252218608818)},\n",
       " 1682: {'model_id': 1682,\n",
       "  'rank': 18,\n",
       "  'cost': 0.8162424242424242,\n",
       "  'ensemble_weight': 0.04,\n",
       "  'data_preprocessor': <autosklearn.pipeline.components.data_preprocessing.DataPreprocessorChoice at 0x155524f86f10>,\n",
       "  'balancing': Balancing(random_state=101, strategy='weighting'),\n",
       "  'feature_preprocessor': <autosklearn.pipeline.components.feature_preprocessing.FeaturePreprocessorChoice at 0x1553dc7b87f0>,\n",
       "  'classifier': <autosklearn.pipeline.components.classification.ClassifierChoice at 0x1553dc7b8310>,\n",
       "  'sklearn_classifier': QuadraticDiscriminantAnalysis(reg_param=0.689931020982342)},\n",
       " 2102: {'model_id': 2102,\n",
       "  'rank': 19,\n",
       "  'cost': 0.8164848484848485,\n",
       "  'ensemble_weight': 0.02,\n",
       "  'data_preprocessor': <autosklearn.pipeline.components.data_preprocessing.DataPreprocessorChoice at 0x1555252cba00>,\n",
       "  'balancing': Balancing(random_state=101, strategy='weighting'),\n",
       "  'feature_preprocessor': <autosklearn.pipeline.components.feature_preprocessing.FeaturePreprocessorChoice at 0x1555253d2c70>,\n",
       "  'classifier': <autosklearn.pipeline.components.classification.ClassifierChoice at 0x1555253d24f0>,\n",
       "  'sklearn_classifier': QuadraticDiscriminantAnalysis(reg_param=0.679613629011034)},\n",
       " 2254: {'model_id': 2254,\n",
       "  'rank': 20,\n",
       "  'cost': 0.8166060606060606,\n",
       "  'ensemble_weight': 0.02,\n",
       "  'data_preprocessor': <autosklearn.pipeline.components.data_preprocessing.DataPreprocessorChoice at 0x1554d6fab9d0>,\n",
       "  'balancing': Balancing(random_state=101),\n",
       "  'feature_preprocessor': <autosklearn.pipeline.components.feature_preprocessing.FeaturePreprocessorChoice at 0x15552522de80>,\n",
       "  'classifier': <autosklearn.pipeline.components.classification.ClassifierChoice at 0x15552522d310>,\n",
       "  'sklearn_classifier': QuadraticDiscriminantAnalysis(reg_param=0.6979312930926652)},\n",
       " 2306: {'model_id': 2306,\n",
       "  'rank': 21,\n",
       "  'cost': 0.8164848484848485,\n",
       "  'ensemble_weight': 0.06,\n",
       "  'data_preprocessor': <autosklearn.pipeline.components.data_preprocessing.DataPreprocessorChoice at 0x1553f7885370>,\n",
       "  'balancing': Balancing(random_state=101, strategy='weighting'),\n",
       "  'feature_preprocessor': <autosklearn.pipeline.components.feature_preprocessing.FeaturePreprocessorChoice at 0x15549059da60>,\n",
       "  'classifier': <autosklearn.pipeline.components.classification.ClassifierChoice at 0x1555252c5fa0>,\n",
       "  'sklearn_classifier': QuadraticDiscriminantAnalysis(reg_param=0.6718416328704788)},\n",
       " 2345: {'model_id': 2345,\n",
       "  'rank': 22,\n",
       "  'cost': 0.8164848484848485,\n",
       "  'ensemble_weight': 0.08,\n",
       "  'data_preprocessor': <autosklearn.pipeline.components.data_preprocessing.DataPreprocessorChoice at 0x1555253d2a30>,\n",
       "  'balancing': Balancing(random_state=101, strategy='weighting'),\n",
       "  'feature_preprocessor': <autosklearn.pipeline.components.feature_preprocessing.FeaturePreprocessorChoice at 0x1555254072e0>,\n",
       "  'classifier': <autosklearn.pipeline.components.classification.ClassifierChoice at 0x155525407df0>,\n",
       "  'sklearn_classifier': QuadraticDiscriminantAnalysis(reg_param=0.6956243889771028)},\n",
       " 2350: {'model_id': 2350,\n",
       "  'rank': 23,\n",
       "  'cost': 0.815939393939394,\n",
       "  'ensemble_weight': 0.06,\n",
       "  'data_preprocessor': <autosklearn.pipeline.components.data_preprocessing.DataPreprocessorChoice at 0x155417d77190>,\n",
       "  'balancing': Balancing(random_state=101, strategy='weighting'),\n",
       "  'feature_preprocessor': <autosklearn.pipeline.components.feature_preprocessing.FeaturePreprocessorChoice at 0x1554cf82a910>,\n",
       "  'classifier': <autosklearn.pipeline.components.classification.ClassifierChoice at 0x1554cca95ee0>,\n",
       "  'sklearn_classifier': QuadraticDiscriminantAnalysis(reg_param=0.6889028374722913)},\n",
       " 2386: {'model_id': 2386,\n",
       "  'rank': 24,\n",
       "  'cost': 0.8164242424242424,\n",
       "  'ensemble_weight': 0.02,\n",
       "  'data_preprocessor': <autosklearn.pipeline.components.data_preprocessing.DataPreprocessorChoice at 0x1555252c5f10>,\n",
       "  'balancing': Balancing(random_state=101, strategy='weighting'),\n",
       "  'feature_preprocessor': <autosklearn.pipeline.components.feature_preprocessing.FeaturePreprocessorChoice at 0x1554ccb52d00>,\n",
       "  'classifier': <autosklearn.pipeline.components.classification.ClassifierChoice at 0x1554cc6d7460>,\n",
       "  'sklearn_classifier': QuadraticDiscriminantAnalysis(reg_param=0.6728131119910842)},\n",
       " 2443: {'model_id': 2443,\n",
       "  'rank': 25,\n",
       "  'cost': 0.8161818181818181,\n",
       "  'ensemble_weight': 0.02,\n",
       "  'data_preprocessor': <autosklearn.pipeline.components.data_preprocessing.DataPreprocessorChoice at 0x155524da9c40>,\n",
       "  'balancing': Balancing(random_state=101),\n",
       "  'feature_preprocessor': <autosklearn.pipeline.components.feature_preprocessing.FeaturePreprocessorChoice at 0x1554160a2fa0>,\n",
       "  'classifier': <autosklearn.pipeline.components.classification.ClassifierChoice at 0x1554160a2fd0>,\n",
       "  'sklearn_classifier': QuadraticDiscriminantAnalysis(reg_param=0.6936185030159905)},\n",
       " 2544: {'model_id': 2544,\n",
       "  'rank': 26,\n",
       "  'cost': 0.8163030303030303,\n",
       "  'ensemble_weight': 0.06,\n",
       "  'data_preprocessor': <autosklearn.pipeline.components.data_preprocessing.DataPreprocessorChoice at 0x1554cca95d60>,\n",
       "  'balancing': Balancing(random_state=101, strategy='weighting'),\n",
       "  'feature_preprocessor': <autosklearn.pipeline.components.feature_preprocessing.FeaturePreprocessorChoice at 0x15552528b9a0>,\n",
       "  'classifier': <autosklearn.pipeline.components.classification.ClassifierChoice at 0x15540f74dcd0>,\n",
       "  'sklearn_classifier': QuadraticDiscriminantAnalysis(reg_param=0.6735315474427741)}}"
      ]
     },
     "execution_count": 10,
     "metadata": {},
     "output_type": "execute_result"
    }
   ],
   "source": [
    "automl.show_models()"
   ]
  },
  {
   "cell_type": "code",
   "execution_count": 11,
   "id": "e375a46f",
   "metadata": {},
   "outputs": [
    {
     "data": {
      "text/plain": [
       "['cifar100.joblib']"
      ]
     },
     "execution_count": 11,
     "metadata": {},
     "output_type": "execute_result"
    }
   ],
   "source": [
    "joblib.dump(automl, 'cifar100.joblib')"
   ]
  },
  {
   "cell_type": "code",
   "execution_count": 12,
   "id": "4dc8679a",
   "metadata": {},
   "outputs": [],
   "source": [
    "testData = load_dataset(\n",
    "    'cifar100',\n",
    "    split='test',\n",
    "    streaming=True,\n",
    "    cache_dir=\"/scratch/doa240/.cache/huggingface/datasets\",\n",
    "    ignore_verifications=True  # set to True if seeing splits Error\n",
    ")"
   ]
  },
  {
   "cell_type": "code",
   "execution_count": 13,
   "id": "64a76125",
   "metadata": {},
   "outputs": [],
   "source": [
    "X_test = []\n",
    "y_test = []\n",
    "\n",
    "for data in testData:\n",
    "    img = data['img']\n",
    "    img = img.convert('L')\n",
    "    img = np.array(img)\n",
    "    X_test.append(img)\n",
    "    y_test.append(data['fine_label'])"
   ]
  },
  {
   "cell_type": "code",
   "execution_count": 14,
   "id": "dc8ba066",
   "metadata": {},
   "outputs": [
    {
     "name": "stdout",
     "output_type": "stream",
     "text": [
      "(10000, 1024)\n"
     ]
    }
   ],
   "source": [
    "X_test = np.array(X_test)\n",
    "X_test = X_test.reshape(X_test.shape[0], -1)\n",
    "print(X_test.shape)"
   ]
  },
  {
   "cell_type": "code",
   "execution_count": 15,
   "id": "780441b5",
   "metadata": {},
   "outputs": [
    {
     "name": "stdout",
     "output_type": "stream",
     "text": [
      "(10000,)\n"
     ]
    }
   ],
   "source": [
    "y_test = np.array(y_test)\n",
    "print(y_test.shape)"
   ]
  },
  {
   "cell_type": "code",
   "execution_count": 16,
   "id": "5629d49f",
   "metadata": {},
   "outputs": [
    {
     "name": "stdout",
     "output_type": "stream",
     "text": [
      "Test Accuracy score 0.191\n"
     ]
    }
   ],
   "source": [
    "# evaluate\n",
    "pred = automl.predict(X_test)\n",
    "test_acc = accuracy_score(y_test, pred)\n",
    "print(\"Test Accuracy score {0}\".format(test_acc))"
   ]
  },
  {
   "cell_type": "code",
   "execution_count": 19,
   "id": "b7c8a151",
   "metadata": {},
   "outputs": [
    {
     "name": "stdout",
     "output_type": "stream",
     "text": [
      "Label: 0 0.42\n",
      "Label: 1 0.44\n",
      "Label: 2 0.09\n",
      "Label: 3 0.14\n",
      "Label: 4 0.08\n",
      "Label: 5 0.15\n",
      "Label: 6 0.05\n",
      "Label: 7 0.06\n",
      "Label: 8 0.12\n",
      "Label: 9 0.39\n",
      "Label: 10 0.15\n",
      "Label: 11 0.1\n",
      "Label: 12 0.07\n",
      "Label: 13 0.19\n",
      "Label: 14 0.11\n",
      "Label: 15 0.05\n",
      "Label: 16 0.23\n",
      "Label: 17 0.19\n",
      "Label: 18 0.0\n",
      "Label: 19 0.09\n",
      "Label: 20 0.61\n",
      "Label: 21 0.32\n",
      "Label: 22 0.21\n",
      "Label: 23 0.49\n",
      "Label: 24 0.67\n",
      "Label: 25 0.13\n",
      "Label: 26 0.07\n",
      "Label: 27 0.1\n",
      "Label: 28 0.56\n",
      "Label: 29 0.15\n",
      "Label: 30 0.1\n",
      "Label: 31 0.09\n",
      "Label: 32 0.15\n",
      "Label: 33 0.17\n",
      "Label: 34 0.01\n",
      "Label: 35 0.1\n",
      "Label: 36 0.14\n",
      "Label: 37 0.07\n",
      "Label: 38 0.03\n",
      "Label: 39 0.11\n",
      "Label: 40 0.31\n",
      "Label: 41 0.46\n",
      "Label: 42 0.04\n",
      "Label: 43 0.05\n",
      "Label: 44 0.03\n",
      "Label: 45 0.1\n",
      "Label: 46 0.14\n",
      "Label: 47 0.33\n",
      "Label: 48 0.35\n",
      "Label: 49 0.12\n",
      "Label: 50 0.03\n",
      "Label: 51 0.11\n",
      "Label: 52 0.48\n",
      "Label: 53 0.17\n",
      "Label: 54 0.07\n",
      "Label: 55 0.01\n",
      "Label: 56 0.2\n",
      "Label: 57 0.18\n",
      "Label: 58 0.22\n",
      "Label: 59 0.16\n",
      "Label: 60 0.76\n",
      "Label: 61 0.53\n",
      "Label: 62 0.04\n",
      "Label: 63 0.19\n",
      "Label: 64 0.08\n",
      "Label: 65 0.07\n",
      "Label: 66 0.01\n",
      "Label: 67 0.22\n",
      "Label: 68 0.42\n",
      "Label: 69 0.47\n",
      "Label: 70 0.05\n",
      "Label: 71 0.38\n",
      "Label: 72 0.07\n",
      "Label: 73 0.25\n",
      "Label: 74 0.13\n",
      "Label: 75 0.45\n",
      "Label: 76 0.43\n",
      "Label: 77 0.06\n",
      "Label: 78 0.0\n",
      "Label: 79 0.29\n",
      "Label: 80 0.05\n",
      "Label: 81 0.05\n",
      "Label: 82 0.17\n",
      "Label: 83 0.01\n",
      "Label: 84 0.04\n",
      "Label: 85 0.3\n",
      "Label: 86 0.28\n",
      "Label: 87 0.3\n",
      "Label: 88 0.0\n",
      "Label: 89 0.03\n",
      "Label: 90 0.17\n",
      "Label: 91 0.35\n",
      "Label: 92 0.02\n",
      "Label: 93 0.02\n",
      "Label: 94 0.62\n",
      "Label: 95 0.25\n",
      "Label: 96 0.17\n",
      "Label: 97 0.11\n",
      "Label: 98 0.09\n",
      "Label: 99 0.21\n"
     ]
    }
   ],
   "source": [
    "classes = [0] * 100\n",
    "classesCnt = [0] * 100\n",
    "\n",
    "for i in range(len(pred)):\n",
    "    if pred[i] == y_test[i]:\n",
    "        classes[pred[i]] += 1\n",
    "    classesCnt[y_test[i]] += 1\n",
    "    \n",
    "for i in range(100):\n",
    "    print(\"Label:\", i, classes[i]/classesCnt[i])"
   ]
  },
  {
   "cell_type": "code",
   "execution_count": 18,
   "id": "b277cca0",
   "metadata": {},
   "outputs": [
    {
     "name": "stdout",
     "output_type": "stream",
     "text": [
      "0.191\n"
     ]
    }
   ],
   "source": [
    "classes = np.array(classes)\n",
    "print(np.sum(classes)/len(y_test))"
   ]
  }
 ],
 "metadata": {
  "kernelspec": {
   "display_name": "base",
   "language": "python",
   "name": "python3"
  },
  "language_info": {
   "codemirror_mode": {
    "name": "ipython",
    "version": 3
   },
   "file_extension": ".py",
   "mimetype": "text/x-python",
   "name": "python",
   "nbconvert_exporter": "python",
   "pygments_lexer": "ipython3",
   "version": "3.9.13"
  }
 },
 "nbformat": 4,
 "nbformat_minor": 5
}
