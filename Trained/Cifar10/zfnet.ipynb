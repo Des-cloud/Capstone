{
 "cells": [
  {
   "cell_type": "code",
   "execution_count": 1,
   "id": "50882e77",
   "metadata": {},
   "outputs": [],
   "source": [
    "import torch\n",
    "import torchvision\n",
    "import torchvision.transforms as transforms\n",
    "from pytorchcv.model_provider import get_model"
   ]
  },
  {
   "cell_type": "code",
   "execution_count": 2,
   "id": "357b881a",
   "metadata": {},
   "outputs": [],
   "source": [
    "transform = transforms.Compose([\n",
    "    transforms.Resize(256),\n",
    "    transforms.CenterCrop(224),\n",
    "    transforms.ToTensor(),\n",
    "    transforms.Normalize(mean=[0.485, 0.456, 0.406], std=[0.229, 0.224, 0.225]),\n",
    "])"
   ]
  },
  {
   "cell_type": "code",
   "execution_count": 3,
   "id": "7a82d5bb",
   "metadata": {},
   "outputs": [
    {
     "name": "stdout",
     "output_type": "stream",
     "text": [
      "Files already downloaded and verified\n"
     ]
    }
   ],
   "source": [
    "cache = \"/scratch/doa240/.cache/datasets\"\n",
    "train_data = torchvision.datasets.CIFAR10(root=cache, train=True, download=True, transform=transform)\n",
    "trainloader = torch.utils.data.DataLoader(train_data, batch_size=4, shuffle=True, num_workers=4)"
   ]
  },
  {
   "cell_type": "code",
   "execution_count": 4,
   "id": "70ea09db",
   "metadata": {},
   "outputs": [],
   "source": [
    "classes = ('Airplane', 'Car', 'Bird', 'Cat', 'Deer', 'Dog', 'Frog', 'Horse', 'Ship', 'Truck')"
   ]
  },
  {
   "cell_type": "code",
   "execution_count": 10,
   "id": "69929f30",
   "metadata": {},
   "outputs": [
    {
     "data": {
      "text/plain": [
       "AlexNet(\n",
       "  (features): Sequential(\n",
       "    (stage1): Sequential(\n",
       "      (unit1): AlexConv(\n",
       "        (conv): Conv2d(3, 96, kernel_size=(7, 7), stride=(2, 2), padding=(1, 1))\n",
       "        (activ): ReLU(inplace=True)\n",
       "      )\n",
       "      (pool1): MaxPool2d(kernel_size=3, stride=2, padding=0, dilation=1, ceil_mode=True)\n",
       "    )\n",
       "    (stage2): Sequential(\n",
       "      (unit1): AlexConv(\n",
       "        (conv): Conv2d(96, 256, kernel_size=(5, 5), stride=(2, 2))\n",
       "        (activ): ReLU(inplace=True)\n",
       "      )\n",
       "      (pool2): MaxPool2d(kernel_size=3, stride=2, padding=0, dilation=1, ceil_mode=True)\n",
       "    )\n",
       "    (stage3): Sequential(\n",
       "      (unit1): AlexConv(\n",
       "        (conv): Conv2d(256, 384, kernel_size=(3, 3), stride=(1, 1), padding=(1, 1))\n",
       "        (activ): ReLU(inplace=True)\n",
       "      )\n",
       "      (unit2): AlexConv(\n",
       "        (conv): Conv2d(384, 384, kernel_size=(3, 3), stride=(1, 1), padding=(1, 1))\n",
       "        (activ): ReLU(inplace=True)\n",
       "      )\n",
       "      (unit3): AlexConv(\n",
       "        (conv): Conv2d(384, 256, kernel_size=(3, 3), stride=(1, 1), padding=(1, 1))\n",
       "        (activ): ReLU(inplace=True)\n",
       "      )\n",
       "      (pool3): MaxPool2d(kernel_size=3, stride=2, padding=0, dilation=1, ceil_mode=True)\n",
       "    )\n",
       "  )\n",
       "  (output): AlexOutputBlock(\n",
       "    (fc1): AlexDense(\n",
       "      (fc): Linear(in_features=9216, out_features=4096, bias=True)\n",
       "      (activ): ReLU(inplace=True)\n",
       "      (dropout): Dropout(p=0.5, inplace=False)\n",
       "    )\n",
       "    (fc2): AlexDense(\n",
       "      (fc): Linear(in_features=4096, out_features=4096, bias=True)\n",
       "      (activ): ReLU(inplace=True)\n",
       "      (dropout): Dropout(p=0.5, inplace=False)\n",
       "    )\n",
       "    (fc3): Linear(in_features=4096, out_features=1000, bias=True)\n",
       "  )\n",
       ")"
      ]
     },
     "execution_count": 10,
     "metadata": {},
     "output_type": "execute_result"
    }
   ],
   "source": [
    "model = get_model(\"zfnet\", pretrained=False, root= \"/scratch/doa240/.torch/models\")\n",
    "model.eval()"
   ]
  },
  {
   "cell_type": "code",
   "execution_count": 11,
   "id": "538aa3ef",
   "metadata": {},
   "outputs": [
    {
     "data": {
      "text/plain": [
       "AlexNet(\n",
       "  (features): Sequential(\n",
       "    (stage1): Sequential(\n",
       "      (unit1): AlexConv(\n",
       "        (conv): Conv2d(3, 96, kernel_size=(7, 7), stride=(2, 2), padding=(1, 1))\n",
       "        (activ): ReLU(inplace=True)\n",
       "      )\n",
       "      (pool1): MaxPool2d(kernel_size=3, stride=2, padding=0, dilation=1, ceil_mode=True)\n",
       "    )\n",
       "    (stage2): Sequential(\n",
       "      (unit1): AlexConv(\n",
       "        (conv): Conv2d(96, 256, kernel_size=(5, 5), stride=(2, 2))\n",
       "        (activ): ReLU(inplace=True)\n",
       "      )\n",
       "      (pool2): MaxPool2d(kernel_size=3, stride=2, padding=0, dilation=1, ceil_mode=True)\n",
       "    )\n",
       "    (stage3): Sequential(\n",
       "      (unit1): AlexConv(\n",
       "        (conv): Conv2d(256, 384, kernel_size=(3, 3), stride=(1, 1), padding=(1, 1))\n",
       "        (activ): ReLU(inplace=True)\n",
       "      )\n",
       "      (unit2): AlexConv(\n",
       "        (conv): Conv2d(384, 384, kernel_size=(3, 3), stride=(1, 1), padding=(1, 1))\n",
       "        (activ): ReLU(inplace=True)\n",
       "      )\n",
       "      (unit3): AlexConv(\n",
       "        (conv): Conv2d(384, 256, kernel_size=(3, 3), stride=(1, 1), padding=(1, 1))\n",
       "        (activ): ReLU(inplace=True)\n",
       "      )\n",
       "      (pool3): MaxPool2d(kernel_size=3, stride=2, padding=0, dilation=1, ceil_mode=True)\n",
       "    )\n",
       "  )\n",
       "  (output): AlexOutputBlock(\n",
       "    (fc1): AlexDense(\n",
       "      (fc): Linear(in_features=9216, out_features=4096, bias=True)\n",
       "      (activ): ReLU(inplace=True)\n",
       "      (dropout): Dropout(p=0.5, inplace=False)\n",
       "    )\n",
       "    (fc2): AlexDense(\n",
       "      (fc): Linear(in_features=4096, out_features=1024, bias=True)\n",
       "      (activ): ReLU(inplace=True)\n",
       "      (dropout): Dropout(p=0.5, inplace=False)\n",
       "    )\n",
       "    (fc3): Linear(in_features=1024, out_features=10, bias=True)\n",
       "  )\n",
       ")"
      ]
     },
     "execution_count": 11,
     "metadata": {},
     "output_type": "execute_result"
    }
   ],
   "source": [
    "import torch.nn as nn\n",
    "model.output.fc2.fc = nn.Linear(4096,1024)\n",
    "model.output.fc3 = nn.Linear(1024,10)\n",
    "model.eval()"
   ]
  },
  {
   "cell_type": "code",
   "execution_count": 12,
   "id": "8c90ad46",
   "metadata": {},
   "outputs": [
    {
     "name": "stdout",
     "output_type": "stream",
     "text": [
      "cuda:0\n"
     ]
    }
   ],
   "source": [
    "device = torch.device(\"cuda:0\" if torch.cuda.is_available() else \"cpu\")\n",
    "print(device)"
   ]
  },
  {
   "cell_type": "code",
   "execution_count": 13,
   "id": "5204d1cd",
   "metadata": {},
   "outputs": [
    {
     "data": {
      "text/plain": [
       "AlexNet(\n",
       "  (features): Sequential(\n",
       "    (stage1): Sequential(\n",
       "      (unit1): AlexConv(\n",
       "        (conv): Conv2d(3, 96, kernel_size=(7, 7), stride=(2, 2), padding=(1, 1))\n",
       "        (activ): ReLU(inplace=True)\n",
       "      )\n",
       "      (pool1): MaxPool2d(kernel_size=3, stride=2, padding=0, dilation=1, ceil_mode=True)\n",
       "    )\n",
       "    (stage2): Sequential(\n",
       "      (unit1): AlexConv(\n",
       "        (conv): Conv2d(96, 256, kernel_size=(5, 5), stride=(2, 2))\n",
       "        (activ): ReLU(inplace=True)\n",
       "      )\n",
       "      (pool2): MaxPool2d(kernel_size=3, stride=2, padding=0, dilation=1, ceil_mode=True)\n",
       "    )\n",
       "    (stage3): Sequential(\n",
       "      (unit1): AlexConv(\n",
       "        (conv): Conv2d(256, 384, kernel_size=(3, 3), stride=(1, 1), padding=(1, 1))\n",
       "        (activ): ReLU(inplace=True)\n",
       "      )\n",
       "      (unit2): AlexConv(\n",
       "        (conv): Conv2d(384, 384, kernel_size=(3, 3), stride=(1, 1), padding=(1, 1))\n",
       "        (activ): ReLU(inplace=True)\n",
       "      )\n",
       "      (unit3): AlexConv(\n",
       "        (conv): Conv2d(384, 256, kernel_size=(3, 3), stride=(1, 1), padding=(1, 1))\n",
       "        (activ): ReLU(inplace=True)\n",
       "      )\n",
       "      (pool3): MaxPool2d(kernel_size=3, stride=2, padding=0, dilation=1, ceil_mode=True)\n",
       "    )\n",
       "  )\n",
       "  (output): AlexOutputBlock(\n",
       "    (fc1): AlexDense(\n",
       "      (fc): Linear(in_features=9216, out_features=4096, bias=True)\n",
       "      (activ): ReLU(inplace=True)\n",
       "      (dropout): Dropout(p=0.5, inplace=False)\n",
       "    )\n",
       "    (fc2): AlexDense(\n",
       "      (fc): Linear(in_features=4096, out_features=1024, bias=True)\n",
       "      (activ): ReLU(inplace=True)\n",
       "      (dropout): Dropout(p=0.5, inplace=False)\n",
       "    )\n",
       "    (fc3): Linear(in_features=1024, out_features=10, bias=True)\n",
       "  )\n",
       ")"
      ]
     },
     "execution_count": 13,
     "metadata": {},
     "output_type": "execute_result"
    }
   ],
   "source": [
    "model.to(device)"
   ]
  },
  {
   "cell_type": "code",
   "execution_count": 14,
   "id": "e62ac994",
   "metadata": {},
   "outputs": [],
   "source": [
    "import torch.optim as optim\n",
    "\n",
    "criterion = nn.CrossEntropyLoss()\n",
    "optimizer = optim.SGD(model.parameters(), lr=0.001, momentum=0.9)"
   ]
  },
  {
   "cell_type": "code",
   "execution_count": 15,
   "id": "5e6265ec",
   "metadata": {},
   "outputs": [],
   "source": [
    "import time"
   ]
  },
  {
   "cell_type": "code",
   "execution_count": 16,
   "id": "c06156e0",
   "metadata": {},
   "outputs": [
    {
     "name": "stdout",
     "output_type": "stream",
     "text": [
      "[1,  2000] loss: 1.136\n",
      "Time: 29.762009382247925\n",
      "[1,  4000] loss: 0.792\n",
      "Time: 51.84672021865845\n",
      "[1,  6000] loss: 0.706\n",
      "Time: 73.92991209030151\n",
      "[1,  8000] loss: 0.666\n",
      "Time: 95.86893558502197\n",
      "[1, 10000] loss: 0.601\n",
      "Time: 117.68399667739868\n",
      "[1, 12000] loss: 0.550\n",
      "Time: 139.4816460609436\n",
      "[2,  2000] loss: 0.405\n",
      "Time: 21.83594584465027\n",
      "[2,  4000] loss: 0.425\n",
      "Time: 53.01881694793701\n",
      "[2,  6000] loss: 0.417\n",
      "Time: 91.6776351928711\n",
      "[2,  8000] loss: 0.420\n",
      "Time: 130.3037703037262\n",
      "[2, 10000] loss: 0.418\n",
      "Time: 168.922465801239\n",
      "[2, 12000] loss: 0.391\n",
      "Time: 207.55753421783447\n",
      "[3,  2000] loss: 0.249\n",
      "Time: 38.182865381240845\n",
      "[3,  4000] loss: 0.292\n",
      "Time: 75.82924032211304\n",
      "[3,  6000] loss: 0.291\n",
      "Time: 113.60785818099976\n",
      "[3,  8000] loss: 0.260\n",
      "Time: 152.18091821670532\n",
      "[3, 10000] loss: 0.288\n",
      "Time: 190.738862991333\n",
      "[3, 12000] loss: 0.264\n",
      "Time: 229.3140938282013\n",
      "[4,  2000] loss: 0.148\n",
      "Time: 38.226070404052734\n",
      "[4,  4000] loss: 0.177\n",
      "Time: 76.44042015075684\n",
      "[4,  6000] loss: 0.187\n",
      "Time: 115.13539218902588\n",
      "[4,  8000] loss: 0.195\n",
      "Time: 153.81957840919495\n",
      "[4, 10000] loss: 0.186\n",
      "Time: 192.39512062072754\n",
      "[4, 12000] loss: 0.198\n",
      "Time: 230.94110012054443\n",
      "[5,  2000] loss: 0.099\n",
      "Time: 38.66100788116455\n",
      "[5,  4000] loss: 0.126\n",
      "Time: 76.8433895111084\n",
      "[5,  6000] loss: 0.116\n",
      "Time: 115.00166440010071\n",
      "[5,  8000] loss: 0.135\n",
      "Time: 153.23673391342163\n",
      "[5, 10000] loss: 0.150\n",
      "Time: 191.38956761360168\n",
      "[5, 12000] loss: 0.134\n",
      "Time: 229.52536058425903\n",
      "[6,  2000] loss: 0.086\n",
      "Time: 37.90546655654907\n",
      "[6,  4000] loss: 0.097\n",
      "Time: 75.46879768371582\n",
      "[6,  6000] loss: 0.097\n",
      "Time: 113.25812077522278\n",
      "[6,  8000] loss: 0.098\n",
      "Time: 151.0361442565918\n",
      "[6, 10000] loss: 0.112\n",
      "Time: 188.82357811927795\n",
      "[6, 12000] loss: 0.113\n",
      "Time: 226.63528728485107\n",
      "[7,  2000] loss: 0.073\n",
      "Time: 37.89528203010559\n",
      "[7,  4000] loss: 0.071\n",
      "Time: 75.96574330329895\n",
      "[7,  6000] loss: 0.068\n",
      "Time: 114.33015727996826\n",
      "[7,  8000] loss: 0.101\n",
      "Time: 152.77217197418213\n",
      "[7, 10000] loss: 0.092\n",
      "Time: 191.20358657836914\n",
      "[7, 12000] loss: 0.085\n",
      "Time: 229.6372263431549\n",
      "Finished Training of AlexNet\n"
     ]
    }
   ],
   "source": [
    "for epoch in range(7):  # loop over the dataset multiple times\n",
    "\n",
    "    running_loss = 0.0\n",
    "    start_time = time.time()\n",
    "    for i, data in enumerate(trainloader, 0):\n",
    "        # get the inputs; data is a list of [inputs, labels]\n",
    "        inputs, labels = data[0].to(device), data[1].to(device)\n",
    "\n",
    "        # zero the parameter gradients\n",
    "        optimizer.zero_grad()\n",
    "\n",
    "        # forward + backward + optimize\n",
    "        output = model(inputs)\n",
    "        loss = criterion(output, labels)\n",
    "        loss.backward()\n",
    "        optimizer.step()\n",
    "\n",
    "        #Time\n",
    "        end_time = time.time()\n",
    "        time_taken = end_time - start_time\n",
    "\n",
    "        # print statistics\n",
    "        running_loss += loss.item()\n",
    "        if i % 2000 == 1999:    # print every 2000 mini-batches\n",
    "            print('[%d, %5d] loss: %.3f' % (epoch + 1, i + 1, running_loss / 2000))\n",
    "            print('Time:',time_taken)\n",
    "            running_loss = 0.0\n",
    "\n",
    "print('Finished Training of AlexNet')"
   ]
  },
  {
   "cell_type": "code",
   "execution_count": 17,
   "id": "7f055b0f",
   "metadata": {},
   "outputs": [
    {
     "name": "stdout",
     "output_type": "stream",
     "text": [
      "Files already downloaded and verified\n"
     ]
    }
   ],
   "source": [
    "test_data = torchvision.datasets.CIFAR10(root=cache, train=False, download=True, transform=transform)\n",
    "testloader = torch.utils.data.DataLoader(test_data, batch_size=4, shuffle=False, num_workers=4)"
   ]
  },
  {
   "cell_type": "code",
   "execution_count": 18,
   "id": "06571c65",
   "metadata": {},
   "outputs": [
    {
     "name": "stdout",
     "output_type": "stream",
     "text": [
      "Accuracy of the network on the 10000 test images: 85.37 %\n"
     ]
    }
   ],
   "source": [
    "#Testing Accuracy\n",
    "correct = 0\n",
    "total = 0\n",
    "with torch.no_grad():\n",
    "    for data in testloader:\n",
    "        images, labels = data[0].to(device), data[1].to(device)\n",
    "        outputs = model(images)\n",
    "        _, predicted = torch.max(outputs.data, 1)\n",
    "        total += labels.size(0)\n",
    "        correct += (predicted == labels).sum().item()\n",
    "\n",
    "print('Accuracy of the network on the 10000 test images: %.2f %%' % (100 * correct / total))"
   ]
  },
  {
   "cell_type": "code",
   "execution_count": 19,
   "id": "872bad85",
   "metadata": {},
   "outputs": [
    {
     "name": "stdout",
     "output_type": "stream",
     "text": [
      "Accuracy of Airplane : 92 %\n",
      "Accuracy of   Car : 95 %\n",
      "Accuracy of  Bird : 87 %\n",
      "Accuracy of   Cat : 64 %\n",
      "Accuracy of  Deer : 89 %\n",
      "Accuracy of   Dog : 77 %\n",
      "Accuracy of  Frog : 92 %\n",
      "Accuracy of Horse : 88 %\n",
      "Accuracy of  Ship : 82 %\n",
      "Accuracy of Truck : 83 %\n"
     ]
    }
   ],
   "source": [
    "class_correct = list(0. for i in range(10))\n",
    "class_total = list(0. for i in range(10))\n",
    "with torch.no_grad():\n",
    "    for data in testloader:\n",
    "        images, labels = data[0].to(device), data[1].to(device)\n",
    "        outputs = model(images)\n",
    "        _, predicted = torch.max(outputs, 1)\n",
    "        c = (predicted == labels).squeeze()\n",
    "        for i in range(4):\n",
    "            label = labels[i]\n",
    "            class_correct[label] += c[i].item()\n",
    "            class_total[label] += 1\n",
    "\n",
    "\n",
    "for i in range(10):\n",
    "    print('Accuracy of %5s : %2d %%' % (\n",
    "        classes[i], 100 * class_correct[i] / class_total[i]))"
   ]
  },
  {
   "cell_type": "code",
   "execution_count": 20,
   "id": "0d2b63b4",
   "metadata": {},
   "outputs": [],
   "source": [
    "# #Verifying average accuracy of the network\n",
    "# avg = 0\n",
    "# for i in range(10):\n",
    "#   temp = (100 * class_correct[i] / class_total[i])\n",
    "#   avg = avg + temp\n",
    "# avg = avg/10\n",
    "# print('Average accuracy = ', avg)  "
   ]
  },
  {
   "cell_type": "code",
   "execution_count": null,
   "id": "7bef62fd",
   "metadata": {},
   "outputs": [],
   "source": []
  }
 ],
 "metadata": {
  "kernelspec": {
   "display_name": "PytorchKernel",
   "language": "python",
   "name": "pytorch"
  },
  "language_info": {
   "codemirror_mode": {
    "name": "ipython",
    "version": 3
   },
   "file_extension": ".py",
   "mimetype": "text/x-python",
   "name": "python",
   "nbconvert_exporter": "python",
   "pygments_lexer": "ipython3",
   "version": "3.9.12"
  }
 },
 "nbformat": 4,
 "nbformat_minor": 5
}
