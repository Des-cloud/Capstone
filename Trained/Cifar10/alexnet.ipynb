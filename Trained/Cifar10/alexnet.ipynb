{
 "cells": [
  {
   "cell_type": "code",
   "execution_count": 26,
   "id": "50882e77",
   "metadata": {},
   "outputs": [],
   "source": [
    "import torch\n",
    "import torchvision\n",
    "import torchvision.transforms as transforms\n",
    "from pytorchcv.model_provider import get_model"
   ]
  },
  {
   "cell_type": "code",
   "execution_count": 2,
   "id": "357b881a",
   "metadata": {},
   "outputs": [],
   "source": [
    "transform = transforms.Compose([\n",
    "    transforms.Resize(256),\n",
    "    transforms.CenterCrop(224),\n",
    "    transforms.ToTensor(),\n",
    "    transforms.Normalize(mean=[0.485, 0.456, 0.406], std=[0.229, 0.224, 0.225]),\n",
    "])"
   ]
  },
  {
   "cell_type": "code",
   "execution_count": 3,
   "id": "7a82d5bb",
   "metadata": {},
   "outputs": [
    {
     "name": "stdout",
     "output_type": "stream",
     "text": [
      "Files already downloaded and verified\n"
     ]
    }
   ],
   "source": [
    "cache = \"/scratch/doa240/.cache/datasets\"\n",
    "train_data = torchvision.datasets.CIFAR10(root=cache, train=True, download=True, transform=transform)\n",
    "trainloader = torch.utils.data.DataLoader(train_data, batch_size=4, shuffle=True, num_workers=4)"
   ]
  },
  {
   "cell_type": "code",
   "execution_count": 4,
   "id": "70ea09db",
   "metadata": {},
   "outputs": [],
   "source": [
    "classes = ('Airplane', 'Car', 'Bird', 'Cat', 'Deer', 'Dog', 'Frog', 'Horse', 'Ship', 'Truck')"
   ]
  },
  {
   "cell_type": "code",
   "execution_count": 40,
   "id": "69929f30",
   "metadata": {},
   "outputs": [
    {
     "data": {
      "text/plain": [
       "AlexNet(\n",
       "  (features): Sequential(\n",
       "    (stage1): Sequential(\n",
       "      (unit1): AlexConv(\n",
       "        (conv): Conv2d(3, 96, kernel_size=(11, 11), stride=(4, 4))\n",
       "        (activ): ReLU(inplace=True)\n",
       "      )\n",
       "      (pool1): MaxPool2d(kernel_size=3, stride=2, padding=0, dilation=1, ceil_mode=True)\n",
       "    )\n",
       "    (stage2): Sequential(\n",
       "      (unit1): AlexConv(\n",
       "        (conv): Conv2d(96, 256, kernel_size=(5, 5), stride=(1, 1), padding=(2, 2))\n",
       "        (activ): ReLU(inplace=True)\n",
       "      )\n",
       "      (pool2): MaxPool2d(kernel_size=3, stride=2, padding=0, dilation=1, ceil_mode=True)\n",
       "    )\n",
       "    (stage3): Sequential(\n",
       "      (unit1): AlexConv(\n",
       "        (conv): Conv2d(256, 384, kernel_size=(3, 3), stride=(1, 1), padding=(1, 1))\n",
       "        (activ): ReLU(inplace=True)\n",
       "      )\n",
       "      (unit2): AlexConv(\n",
       "        (conv): Conv2d(384, 384, kernel_size=(3, 3), stride=(1, 1), padding=(1, 1))\n",
       "        (activ): ReLU(inplace=True)\n",
       "      )\n",
       "      (unit3): AlexConv(\n",
       "        (conv): Conv2d(384, 256, kernel_size=(3, 3), stride=(1, 1), padding=(1, 1))\n",
       "        (activ): ReLU(inplace=True)\n",
       "      )\n",
       "      (pool3): MaxPool2d(kernel_size=3, stride=2, padding=0, dilation=1, ceil_mode=True)\n",
       "    )\n",
       "  )\n",
       "  (output): AlexOutputBlock(\n",
       "    (fc1): AlexDense(\n",
       "      (fc): Linear(in_features=9216, out_features=4096, bias=True)\n",
       "      (activ): ReLU(inplace=True)\n",
       "      (dropout): Dropout(p=0.5, inplace=False)\n",
       "    )\n",
       "    (fc2): AlexDense(\n",
       "      (fc): Linear(in_features=4096, out_features=4096, bias=True)\n",
       "      (activ): ReLU(inplace=True)\n",
       "      (dropout): Dropout(p=0.5, inplace=False)\n",
       "    )\n",
       "    (fc3): Linear(in_features=4096, out_features=1000, bias=True)\n",
       "  )\n",
       ")"
      ]
     },
     "execution_count": 40,
     "metadata": {},
     "output_type": "execute_result"
    }
   ],
   "source": [
    "model = get_model(\"alexnet\", pretrained=False)\n",
    "model.eval()"
   ]
  },
  {
   "cell_type": "code",
   "execution_count": 41,
   "id": "538aa3ef",
   "metadata": {},
   "outputs": [
    {
     "data": {
      "text/plain": [
       "AlexNet(\n",
       "  (features): Sequential(\n",
       "    (stage1): Sequential(\n",
       "      (unit1): AlexConv(\n",
       "        (conv): Conv2d(3, 96, kernel_size=(11, 11), stride=(4, 4))\n",
       "        (activ): ReLU(inplace=True)\n",
       "      )\n",
       "      (pool1): MaxPool2d(kernel_size=3, stride=2, padding=0, dilation=1, ceil_mode=True)\n",
       "    )\n",
       "    (stage2): Sequential(\n",
       "      (unit1): AlexConv(\n",
       "        (conv): Conv2d(96, 256, kernel_size=(5, 5), stride=(1, 1), padding=(2, 2))\n",
       "        (activ): ReLU(inplace=True)\n",
       "      )\n",
       "      (pool2): MaxPool2d(kernel_size=3, stride=2, padding=0, dilation=1, ceil_mode=True)\n",
       "    )\n",
       "    (stage3): Sequential(\n",
       "      (unit1): AlexConv(\n",
       "        (conv): Conv2d(256, 384, kernel_size=(3, 3), stride=(1, 1), padding=(1, 1))\n",
       "        (activ): ReLU(inplace=True)\n",
       "      )\n",
       "      (unit2): AlexConv(\n",
       "        (conv): Conv2d(384, 384, kernel_size=(3, 3), stride=(1, 1), padding=(1, 1))\n",
       "        (activ): ReLU(inplace=True)\n",
       "      )\n",
       "      (unit3): AlexConv(\n",
       "        (conv): Conv2d(384, 256, kernel_size=(3, 3), stride=(1, 1), padding=(1, 1))\n",
       "        (activ): ReLU(inplace=True)\n",
       "      )\n",
       "      (pool3): MaxPool2d(kernel_size=3, stride=2, padding=0, dilation=1, ceil_mode=True)\n",
       "    )\n",
       "  )\n",
       "  (output): AlexOutputBlock(\n",
       "    (fc1): AlexDense(\n",
       "      (fc): Linear(in_features=9216, out_features=4096, bias=True)\n",
       "      (activ): ReLU(inplace=True)\n",
       "      (dropout): Dropout(p=0.5, inplace=False)\n",
       "    )\n",
       "    (fc2): AlexDense(\n",
       "      (fc): Linear(in_features=4096, out_features=1024, bias=True)\n",
       "      (activ): ReLU(inplace=True)\n",
       "      (dropout): Dropout(p=0.5, inplace=False)\n",
       "    )\n",
       "    (fc3): Linear(in_features=1024, out_features=10, bias=True)\n",
       "  )\n",
       ")"
      ]
     },
     "execution_count": 41,
     "metadata": {},
     "output_type": "execute_result"
    }
   ],
   "source": [
    "import torch.nn as nn\n",
    "model.output.fc2.fc = nn.Linear(4096,1024)\n",
    "model.output.fc3 = nn.Linear(1024,10)\n",
    "model.eval()"
   ]
  },
  {
   "cell_type": "code",
   "execution_count": 42,
   "id": "8c90ad46",
   "metadata": {},
   "outputs": [
    {
     "name": "stdout",
     "output_type": "stream",
     "text": [
      "cuda:0\n"
     ]
    }
   ],
   "source": [
    "device = torch.device(\"cuda:0\" if torch.cuda.is_available() else \"cpu\")\n",
    "print(device)"
   ]
  },
  {
   "cell_type": "code",
   "execution_count": 43,
   "id": "5204d1cd",
   "metadata": {},
   "outputs": [
    {
     "data": {
      "text/plain": [
       "AlexNet(\n",
       "  (features): Sequential(\n",
       "    (stage1): Sequential(\n",
       "      (unit1): AlexConv(\n",
       "        (conv): Conv2d(3, 96, kernel_size=(11, 11), stride=(4, 4))\n",
       "        (activ): ReLU(inplace=True)\n",
       "      )\n",
       "      (pool1): MaxPool2d(kernel_size=3, stride=2, padding=0, dilation=1, ceil_mode=True)\n",
       "    )\n",
       "    (stage2): Sequential(\n",
       "      (unit1): AlexConv(\n",
       "        (conv): Conv2d(96, 256, kernel_size=(5, 5), stride=(1, 1), padding=(2, 2))\n",
       "        (activ): ReLU(inplace=True)\n",
       "      )\n",
       "      (pool2): MaxPool2d(kernel_size=3, stride=2, padding=0, dilation=1, ceil_mode=True)\n",
       "    )\n",
       "    (stage3): Sequential(\n",
       "      (unit1): AlexConv(\n",
       "        (conv): Conv2d(256, 384, kernel_size=(3, 3), stride=(1, 1), padding=(1, 1))\n",
       "        (activ): ReLU(inplace=True)\n",
       "      )\n",
       "      (unit2): AlexConv(\n",
       "        (conv): Conv2d(384, 384, kernel_size=(3, 3), stride=(1, 1), padding=(1, 1))\n",
       "        (activ): ReLU(inplace=True)\n",
       "      )\n",
       "      (unit3): AlexConv(\n",
       "        (conv): Conv2d(384, 256, kernel_size=(3, 3), stride=(1, 1), padding=(1, 1))\n",
       "        (activ): ReLU(inplace=True)\n",
       "      )\n",
       "      (pool3): MaxPool2d(kernel_size=3, stride=2, padding=0, dilation=1, ceil_mode=True)\n",
       "    )\n",
       "  )\n",
       "  (output): AlexOutputBlock(\n",
       "    (fc1): AlexDense(\n",
       "      (fc): Linear(in_features=9216, out_features=4096, bias=True)\n",
       "      (activ): ReLU(inplace=True)\n",
       "      (dropout): Dropout(p=0.5, inplace=False)\n",
       "    )\n",
       "    (fc2): AlexDense(\n",
       "      (fc): Linear(in_features=4096, out_features=1024, bias=True)\n",
       "      (activ): ReLU(inplace=True)\n",
       "      (dropout): Dropout(p=0.5, inplace=False)\n",
       "    )\n",
       "    (fc3): Linear(in_features=1024, out_features=10, bias=True)\n",
       "  )\n",
       ")"
      ]
     },
     "execution_count": 43,
     "metadata": {},
     "output_type": "execute_result"
    }
   ],
   "source": [
    "model.to(device)"
   ]
  },
  {
   "cell_type": "code",
   "execution_count": 44,
   "id": "e62ac994",
   "metadata": {},
   "outputs": [],
   "source": [
    "import torch.optim as optim\n",
    "\n",
    "criterion = nn.CrossEntropyLoss()\n",
    "optimizer = optim.SGD(model.parameters(), lr=0.001, momentum=0.9)"
   ]
  },
  {
   "cell_type": "code",
   "execution_count": 45,
   "id": "5e6265ec",
   "metadata": {},
   "outputs": [],
   "source": [
    "import time"
   ]
  },
  {
   "cell_type": "code",
   "execution_count": 46,
   "id": "c06156e0",
   "metadata": {},
   "outputs": [
    {
     "name": "stdout",
     "output_type": "stream",
     "text": [
      "[1,  2000] loss: 1.865\n",
      "Time: 19.444782972335815\n",
      "[1,  4000] loss: 1.556\n",
      "Time: 37.453460693359375\n",
      "[1,  6000] loss: 1.426\n",
      "Time: 55.52436184883118\n",
      "[1,  8000] loss: 1.290\n",
      "Time: 73.55392599105835\n",
      "[1, 10000] loss: 1.197\n",
      "Time: 91.59856486320496\n",
      "[1, 12000] loss: 1.120\n",
      "Time: 109.67991662025452\n",
      "[2,  2000] loss: 0.980\n",
      "Time: 18.788944959640503\n",
      "[2,  4000] loss: 0.941\n",
      "Time: 37.33146643638611\n",
      "[2,  6000] loss: 0.898\n",
      "Time: 55.86192464828491\n",
      "[2,  8000] loss: 0.859\n",
      "Time: 74.42028546333313\n",
      "[2, 10000] loss: 0.841\n",
      "Time: 93.04849672317505\n",
      "[2, 12000] loss: 0.831\n",
      "Time: 111.67383933067322\n",
      "[3,  2000] loss: 0.654\n",
      "Time: 19.06761074066162\n",
      "[3,  4000] loss: 0.640\n",
      "Time: 38.60707759857178\n",
      "[3,  6000] loss: 0.662\n",
      "Time: 58.14228892326355\n",
      "[3,  8000] loss: 0.648\n",
      "Time: 76.97777938842773\n",
      "[3, 10000] loss: 0.643\n",
      "Time: 95.56450247764587\n",
      "[3, 12000] loss: 0.639\n",
      "Time: 114.14690685272217\n",
      "[4,  2000] loss: 0.437\n",
      "Time: 18.876917600631714\n",
      "[4,  4000] loss: 0.440\n",
      "Time: 38.29993748664856\n",
      "[4,  6000] loss: 0.486\n",
      "Time: 57.814226150512695\n",
      "[4,  8000] loss: 0.473\n",
      "Time: 77.34243369102478\n",
      "[4, 10000] loss: 0.476\n",
      "Time: 96.85389161109924\n",
      "[4, 12000] loss: 0.497\n",
      "Time: 116.36188507080078\n",
      "[5,  2000] loss: 0.277\n",
      "Time: 18.570344924926758\n",
      "[5,  4000] loss: 0.307\n",
      "Time: 36.72733402252197\n",
      "[5,  6000] loss: 0.343\n",
      "Time: 54.83109760284424\n",
      "[5,  8000] loss: 0.326\n",
      "Time: 73.98205399513245\n",
      "[5, 10000] loss: 0.353\n",
      "Time: 93.61230325698853\n",
      "[5, 12000] loss: 0.352\n",
      "Time: 112.18651151657104\n",
      "[6,  2000] loss: 0.181\n",
      "Time: 18.269283056259155\n",
      "[6,  4000] loss: 0.222\n",
      "Time: 36.23717975616455\n",
      "[6,  6000] loss: 0.252\n",
      "Time: 54.221577405929565\n",
      "[6,  8000] loss: 0.228\n",
      "Time: 72.25152134895325\n",
      "[6, 10000] loss: 0.247\n",
      "Time: 91.1438250541687\n",
      "[6, 12000] loss: 0.258\n",
      "Time: 109.22616624832153\n",
      "[7,  2000] loss: 0.136\n",
      "Time: 18.817739009857178\n",
      "[7,  4000] loss: 0.170\n",
      "Time: 37.37147045135498\n",
      "[7,  6000] loss: 0.178\n",
      "Time: 55.92254328727722\n",
      "[7,  8000] loss: 0.168\n",
      "Time: 74.33064413070679\n",
      "[7, 10000] loss: 0.177\n",
      "Time: 92.6012499332428\n",
      "[7, 12000] loss: 0.204\n",
      "Time: 121.74618363380432\n",
      "Finished Training of AlexNet\n"
     ]
    }
   ],
   "source": [
    "for epoch in range(7):  # loop over the dataset multiple times\n",
    "\n",
    "    running_loss = 0.0\n",
    "    start_time = time.time()\n",
    "    for i, data in enumerate(trainloader, 0):\n",
    "        # get the inputs; data is a list of [inputs, labels]\n",
    "        inputs, labels = data[0].to(device), data[1].to(device)\n",
    "\n",
    "        # zero the parameter gradients\n",
    "        optimizer.zero_grad()\n",
    "\n",
    "        # forward + backward + optimize\n",
    "        output = model(inputs)\n",
    "        loss = criterion(output, labels)\n",
    "        loss.backward()\n",
    "        optimizer.step()\n",
    "\n",
    "        #Time\n",
    "        end_time = time.time()\n",
    "        time_taken = end_time - start_time\n",
    "\n",
    "        # print statistics\n",
    "        running_loss += loss.item()\n",
    "        if i % 2000 == 1999:    # print every 2000 mini-batches\n",
    "            print('[%d, %5d] loss: %.3f' % (epoch + 1, i + 1, running_loss / 2000))\n",
    "            print('Time:',time_taken)\n",
    "            running_loss = 0.0\n",
    "\n",
    "print('Finished Training of AlexNet')"
   ]
  },
  {
   "cell_type": "code",
   "execution_count": 47,
   "id": "7f055b0f",
   "metadata": {},
   "outputs": [
    {
     "name": "stdout",
     "output_type": "stream",
     "text": [
      "Files already downloaded and verified\n"
     ]
    }
   ],
   "source": [
    "test_data = torchvision.datasets.CIFAR10(root=cache, train=False, download=True, transform=transform)\n",
    "testloader = torch.utils.data.DataLoader(test_data, batch_size=4, shuffle=False, num_workers=4)"
   ]
  },
  {
   "cell_type": "code",
   "execution_count": 48,
   "id": "06571c65",
   "metadata": {},
   "outputs": [
    {
     "name": "stdout",
     "output_type": "stream",
     "text": [
      "Accuracy of the network on the 10000 test images: 77.32 %\n"
     ]
    }
   ],
   "source": [
    "#Testing Accuracy\n",
    "correct = 0\n",
    "total = 0\n",
    "with torch.no_grad():\n",
    "    for data in testloader:\n",
    "        images, labels = data[0].to(device), data[1].to(device)\n",
    "        outputs = model(images)\n",
    "        _, predicted = torch.max(outputs.data, 1)\n",
    "        total += labels.size(0)\n",
    "        correct += (predicted == labels).sum().item()\n",
    "\n",
    "print('Accuracy of the network on the 10000 test images: %.2f %%' % (100 * correct / total))"
   ]
  },
  {
   "cell_type": "code",
   "execution_count": 49,
   "id": "872bad85",
   "metadata": {},
   "outputs": [
    {
     "name": "stdout",
     "output_type": "stream",
     "text": [
      "Accuracy of Airplane : 82 %\n",
      "Accuracy of   Car : 87 %\n",
      "Accuracy of  Bird : 67 %\n",
      "Accuracy of   Cat : 53 %\n",
      "Accuracy of  Deer : 75 %\n",
      "Accuracy of   Dog : 73 %\n",
      "Accuracy of  Frog : 83 %\n",
      "Accuracy of Horse : 79 %\n",
      "Accuracy of  Ship : 82 %\n",
      "Accuracy of Truck : 88 %\n"
     ]
    }
   ],
   "source": [
    "class_correct = list(0. for i in range(10))\n",
    "class_total = list(0. for i in range(10))\n",
    "with torch.no_grad():\n",
    "    for data in testloader:\n",
    "        images, labels = data[0].to(device), data[1].to(device)\n",
    "        outputs = model(images)\n",
    "        _, predicted = torch.max(outputs, 1)\n",
    "        c = (predicted == labels).squeeze()\n",
    "        for i in range(4):\n",
    "            label = labels[i]\n",
    "            class_correct[label] += c[i].item()\n",
    "            class_total[label] += 1\n",
    "\n",
    "\n",
    "for i in range(10):\n",
    "    print('Accuracy of %5s : %2d %%' % (\n",
    "        classes[i], 100 * class_correct[i] / class_total[i]))"
   ]
  },
  {
   "cell_type": "code",
   "execution_count": 15,
   "id": "0d2b63b4",
   "metadata": {},
   "outputs": [],
   "source": [
    "# #Verifying average accuracy of the network\n",
    "# avg = 0\n",
    "# for i in range(10):\n",
    "#   temp = (100 * class_correct[i] / class_total[i])\n",
    "#   avg = avg + temp\n",
    "# avg = avg/10\n",
    "# print('Average accuracy = ', avg)  "
   ]
  },
  {
   "cell_type": "code",
   "execution_count": null,
   "id": "7bef62fd",
   "metadata": {},
   "outputs": [],
   "source": []
  }
 ],
 "metadata": {
  "kernelspec": {
   "display_name": "PytorchKernel",
   "language": "python",
   "name": "pytorch"
  },
  "language_info": {
   "codemirror_mode": {
    "name": "ipython",
    "version": 3
   },
   "file_extension": ".py",
   "mimetype": "text/x-python",
   "name": "python",
   "nbconvert_exporter": "python",
   "pygments_lexer": "ipython3",
   "version": "3.9.12"
  }
 },
 "nbformat": 4,
 "nbformat_minor": 5
}
